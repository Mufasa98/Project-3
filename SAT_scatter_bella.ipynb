{
 "cells": [
  {
   "cell_type": "code",
   "execution_count": 2,
   "id": "8531ee87",
   "metadata": {},
   "outputs": [],
   "source": [
    "import matplotlib.pyplot as plt\n",
    "import pandas as pd\n",
    "from scipy import stats\n",
    "from scipy.stats import linregress\n",
    "import numpy as np\n",
    "import requests\n",
    "import json\n",
    "from doe_api import doe_key\n"
   ]
  },
  {
   "cell_type": "code",
   "execution_count": 3,
   "id": "3db569a7",
   "metadata": {},
   "outputs": [],
   "source": [
    "#Academics\n",
    "url = 'https://api.data.gov/ed/collegescorecard/v1/schools.json'\n",
    "params = {\n",
    "    'api_key': doe_key,\n",
    "    'per_page': 150,\n",
    "    'fields': 'id,'+\n",
    "    'location.lon,'+\n",
    "    'location.lat,'+\n",
    "    'latest.school.name,'+\n",
    "    'latest.aid.federal_loan_rate,'+\n",
    "    'latest.cost.title_iv.private.all,'+\n",
    "    'latest.academics.program_reporter.programs_offered,'+\n",
    "    'latest.school.tuition_revenue_per_fte,'+\n",
    "    'latest.student.enrollment.all,'+\n",
    "    'latest.school.degrees_awarded.highest,'+\n",
    "    'latest.admissions.sat_scores.midpoint.writing,'+\n",
    "    'latest.admissions.sat_scores.midpoint.math,'+\n",
    "    'latest.admissions.sat_scores.midpoint.critical_reading,'+\n",
    "    'latest.admissions.sat_scores.average.overall,'+\n",
    "    'latest.admissions.act_scores.midpoint.writing,'+\n",
    "    'latest.admissions.act_scores.midpoint.math,'+\n",
    "    'latest.admissions.act_scores.midpoint.english,'+\n",
    "    #'latest.admissions.act_scores.midpoint.cumulative'+\n",
    "    'latest.student.retention_rate.four_year.part_time_pooled,'+\n",
    "    #'latest.student.retention_rate.four_year.full_time_pooled,'+\n",
    "    #'latest.school.ownership'+\n",
    "    #'latest.completion.completion_rate_less_than_4yr_150nt,'+\n",
    "    'latest.completion.completion_rate_4yr_150_white,'+\n",
    "    'latest.completion.completion_rate_4yr_150_2ormore,'+\n",
    "    'latest.completion.completion_rate_4yr_150_nhpi,'+\n",
    "    'latest.completion.completion_rate_4yr_150_hispanic,'+\n",
    "    'latest.completion.completion_rate_4yr_150_black,'+\n",
    "    'latest.completion.completion_rate_4yr_150_asian,'+\n",
    "    'latest.completion.completion_rate_4yr_150_aian,'+\n",
    "    #'latest.completion.completion_rate_4yr_150nt'+\n",
    "    \n",
    "    'page=0'\n",
    "}"
   ]
  },
  {
   "cell_type": "code",
   "execution_count": 4,
   "id": "2e1e1a53",
   "metadata": {},
   "outputs": [],
   "source": [
    "#Initialize an empty list to store the data\n",
    "academics_data = []\n",
    "#starting page is 0\n",
    "params['page'] = 0\n",
    "\n",
    "#loop that will loop through the page until we reach page 6\n",
    "while params['page'] < 5:\n",
    "    #api call\n",
    "    response = requests.get(url, params=params).json()\n",
    "    next_page_results = response.get(\"results\", [])\n",
    "    academics_data.extend(next_page_results)\n",
    "    #to go to the next page of results\n",
    "    params['page'] += 1\n",
    "\n",
    "\n",
    "academics_df = pd.DataFrame(academics_data)\n",
    "academics_df = academics_df.fillna(0)"
   ]
  },
  {
   "cell_type": "code",
   "execution_count": 5,
   "id": "c3ef497c",
   "metadata": {},
   "outputs": [
    {
     "data": {
      "text/html": [
       "<div>\n",
       "<style scoped>\n",
       "    .dataframe tbody tr th:only-of-type {\n",
       "        vertical-align: middle;\n",
       "    }\n",
       "\n",
       "    .dataframe tbody tr th {\n",
       "        vertical-align: top;\n",
       "    }\n",
       "\n",
       "    .dataframe thead th {\n",
       "        text-align: right;\n",
       "    }\n",
       "</style>\n",
       "<table border=\"1\" class=\"dataframe\">\n",
       "  <thead>\n",
       "    <tr style=\"text-align: right;\">\n",
       "      <th></th>\n",
       "      <th>latest.school.name</th>\n",
       "      <th>latest.aid.federal_loan_rate</th>\n",
       "      <th>latest.cost.title_iv.private.all</th>\n",
       "      <th>latest.academics.program_reporter.programs_offered</th>\n",
       "      <th>latest.school.tuition_revenue_per_fte</th>\n",
       "      <th>latest.student.enrollment.all</th>\n",
       "      <th>latest.school.degrees_awarded.highest</th>\n",
       "      <th>latest.admissions.sat_scores.midpoint.writing</th>\n",
       "      <th>latest.admissions.sat_scores.midpoint.math</th>\n",
       "      <th>latest.admissions.sat_scores.midpoint.critical_reading</th>\n",
       "      <th>...</th>\n",
       "      <th>latest.completion.completion_rate_4yr_150_white</th>\n",
       "      <th>latest.completion.completion_rate_4yr_150_2ormore</th>\n",
       "      <th>latest.completion.completion_rate_4yr_150_nhpi</th>\n",
       "      <th>latest.completion.completion_rate_4yr_150_hispanic</th>\n",
       "      <th>latest.completion.completion_rate_4yr_150_black</th>\n",
       "      <th>latest.completion.completion_rate_4yr_150_asian</th>\n",
       "      <th>latest.completion.completion_rate_4yr_150_aian</th>\n",
       "      <th>id</th>\n",
       "      <th>location.lat</th>\n",
       "      <th>location.lon</th>\n",
       "    </tr>\n",
       "  </thead>\n",
       "  <tbody>\n",
       "    <tr>\n",
       "      <th>0</th>\n",
       "      <td>Alabama A &amp; M University</td>\n",
       "      <td>0.6552</td>\n",
       "      <td>0.0</td>\n",
       "      <td>0.0</td>\n",
       "      <td>9243.0</td>\n",
       "      <td>0</td>\n",
       "      <td>4</td>\n",
       "      <td>414.0</td>\n",
       "      <td>460.0</td>\n",
       "      <td>475.0</td>\n",
       "      <td>...</td>\n",
       "      <td>0.3043</td>\n",
       "      <td>0.3214</td>\n",
       "      <td>0.0</td>\n",
       "      <td>0.2222</td>\n",
       "      <td>0.2805</td>\n",
       "      <td>0.0000</td>\n",
       "      <td>0.0000</td>\n",
       "      <td>100654</td>\n",
       "      <td>34.783368</td>\n",
       "      <td>-86.568502</td>\n",
       "    </tr>\n",
       "    <tr>\n",
       "      <th>1</th>\n",
       "      <td>University of Alabama at Birmingham</td>\n",
       "      <td>0.4401</td>\n",
       "      <td>0.0</td>\n",
       "      <td>0.0</td>\n",
       "      <td>11678.0</td>\n",
       "      <td>0</td>\n",
       "      <td>4</td>\n",
       "      <td>0.0</td>\n",
       "      <td>644.0</td>\n",
       "      <td>637.0</td>\n",
       "      <td>...</td>\n",
       "      <td>0.6276</td>\n",
       "      <td>0.5000</td>\n",
       "      <td>0.0</td>\n",
       "      <td>0.5769</td>\n",
       "      <td>0.5565</td>\n",
       "      <td>0.8354</td>\n",
       "      <td>0.6000</td>\n",
       "      <td>100663</td>\n",
       "      <td>33.505697</td>\n",
       "      <td>-86.799345</td>\n",
       "    </tr>\n",
       "    <tr>\n",
       "      <th>2</th>\n",
       "      <td>Amridge University</td>\n",
       "      <td>0.8423</td>\n",
       "      <td>0.0</td>\n",
       "      <td>0.0</td>\n",
       "      <td>14093.0</td>\n",
       "      <td>0</td>\n",
       "      <td>4</td>\n",
       "      <td>0.0</td>\n",
       "      <td>0.0</td>\n",
       "      <td>0.0</td>\n",
       "      <td>...</td>\n",
       "      <td>1.0000</td>\n",
       "      <td>0.0000</td>\n",
       "      <td>0.0</td>\n",
       "      <td>0.0000</td>\n",
       "      <td>0.2857</td>\n",
       "      <td>0.0000</td>\n",
       "      <td>0.0000</td>\n",
       "      <td>100690</td>\n",
       "      <td>32.362609</td>\n",
       "      <td>-86.174010</td>\n",
       "    </tr>\n",
       "    <tr>\n",
       "      <th>3</th>\n",
       "      <td>University of Alabama in Huntsville</td>\n",
       "      <td>0.3578</td>\n",
       "      <td>0.0</td>\n",
       "      <td>0.0</td>\n",
       "      <td>8246.0</td>\n",
       "      <td>0</td>\n",
       "      <td>4</td>\n",
       "      <td>0.0</td>\n",
       "      <td>655.0</td>\n",
       "      <td>640.0</td>\n",
       "      <td>...</td>\n",
       "      <td>0.6098</td>\n",
       "      <td>0.6000</td>\n",
       "      <td>0.0</td>\n",
       "      <td>0.6444</td>\n",
       "      <td>0.4845</td>\n",
       "      <td>0.8125</td>\n",
       "      <td>0.6667</td>\n",
       "      <td>100706</td>\n",
       "      <td>34.724557</td>\n",
       "      <td>-86.640449</td>\n",
       "    </tr>\n",
       "    <tr>\n",
       "      <th>4</th>\n",
       "      <td>Alabama State University</td>\n",
       "      <td>0.7637</td>\n",
       "      <td>0.0</td>\n",
       "      <td>0.0</td>\n",
       "      <td>8535.0</td>\n",
       "      <td>0</td>\n",
       "      <td>4</td>\n",
       "      <td>0.0</td>\n",
       "      <td>457.0</td>\n",
       "      <td>488.0</td>\n",
       "      <td>...</td>\n",
       "      <td>0.3636</td>\n",
       "      <td>0.0625</td>\n",
       "      <td>0.0</td>\n",
       "      <td>0.4286</td>\n",
       "      <td>0.2844</td>\n",
       "      <td>0.3333</td>\n",
       "      <td>0.0000</td>\n",
       "      <td>100724</td>\n",
       "      <td>32.364317</td>\n",
       "      <td>-86.295677</td>\n",
       "    </tr>\n",
       "    <tr>\n",
       "      <th>...</th>\n",
       "      <td>...</td>\n",
       "      <td>...</td>\n",
       "      <td>...</td>\n",
       "      <td>...</td>\n",
       "      <td>...</td>\n",
       "      <td>...</td>\n",
       "      <td>...</td>\n",
       "      <td>...</td>\n",
       "      <td>...</td>\n",
       "      <td>...</td>\n",
       "      <td>...</td>\n",
       "      <td>...</td>\n",
       "      <td>...</td>\n",
       "      <td>...</td>\n",
       "      <td>...</td>\n",
       "      <td>...</td>\n",
       "      <td>...</td>\n",
       "      <td>...</td>\n",
       "      <td>...</td>\n",
       "      <td>...</td>\n",
       "      <td>...</td>\n",
       "    </tr>\n",
       "    <tr>\n",
       "      <th>495</th>\n",
       "      <td>Colorado Christian University</td>\n",
       "      <td>0.4466</td>\n",
       "      <td>206.0</td>\n",
       "      <td>0.0</td>\n",
       "      <td>11648.0</td>\n",
       "      <td>0</td>\n",
       "      <td>4</td>\n",
       "      <td>0.0</td>\n",
       "      <td>0.0</td>\n",
       "      <td>0.0</td>\n",
       "      <td>...</td>\n",
       "      <td>0.6194</td>\n",
       "      <td>0.5000</td>\n",
       "      <td>0.0</td>\n",
       "      <td>0.4419</td>\n",
       "      <td>0.3333</td>\n",
       "      <td>0.5000</td>\n",
       "      <td>0.0000</td>\n",
       "      <td>126669</td>\n",
       "      <td>39.713880</td>\n",
       "      <td>-105.094560</td>\n",
       "    </tr>\n",
       "    <tr>\n",
       "      <th>496</th>\n",
       "      <td>Colorado College</td>\n",
       "      <td>0.2365</td>\n",
       "      <td>214.0</td>\n",
       "      <td>0.0</td>\n",
       "      <td>34550.0</td>\n",
       "      <td>0</td>\n",
       "      <td>4</td>\n",
       "      <td>0.0</td>\n",
       "      <td>0.0</td>\n",
       "      <td>0.0</td>\n",
       "      <td>...</td>\n",
       "      <td>0.8743</td>\n",
       "      <td>0.7609</td>\n",
       "      <td>0.0</td>\n",
       "      <td>0.8036</td>\n",
       "      <td>0.7368</td>\n",
       "      <td>0.8966</td>\n",
       "      <td>1.0000</td>\n",
       "      <td>126678</td>\n",
       "      <td>38.848860</td>\n",
       "      <td>-104.822697</td>\n",
       "    </tr>\n",
       "    <tr>\n",
       "      <th>497</th>\n",
       "      <td>Concorde Career College-Aurora</td>\n",
       "      <td>0.7053</td>\n",
       "      <td>104.0</td>\n",
       "      <td>10.0</td>\n",
       "      <td>20354.0</td>\n",
       "      <td>0</td>\n",
       "      <td>2</td>\n",
       "      <td>0.0</td>\n",
       "      <td>0.0</td>\n",
       "      <td>0.0</td>\n",
       "      <td>...</td>\n",
       "      <td>0.0000</td>\n",
       "      <td>0.0000</td>\n",
       "      <td>0.0</td>\n",
       "      <td>0.0000</td>\n",
       "      <td>0.0000</td>\n",
       "      <td>0.0000</td>\n",
       "      <td>0.0000</td>\n",
       "      <td>126687</td>\n",
       "      <td>39.718699</td>\n",
       "      <td>-104.867089</td>\n",
       "    </tr>\n",
       "    <tr>\n",
       "      <th>498</th>\n",
       "      <td>Colorado Mountain College</td>\n",
       "      <td>0.0935</td>\n",
       "      <td>0.0</td>\n",
       "      <td>0.0</td>\n",
       "      <td>2095.0</td>\n",
       "      <td>0</td>\n",
       "      <td>3</td>\n",
       "      <td>0.0</td>\n",
       "      <td>0.0</td>\n",
       "      <td>0.0</td>\n",
       "      <td>...</td>\n",
       "      <td>0.2353</td>\n",
       "      <td>0.2000</td>\n",
       "      <td>0.0</td>\n",
       "      <td>0.3788</td>\n",
       "      <td>0.0000</td>\n",
       "      <td>0.3333</td>\n",
       "      <td>0.3333</td>\n",
       "      <td>126711</td>\n",
       "      <td>39.546360</td>\n",
       "      <td>-107.324441</td>\n",
       "    </tr>\n",
       "    <tr>\n",
       "      <th>499</th>\n",
       "      <td>Colorado Northwestern Community College</td>\n",
       "      <td>0.2024</td>\n",
       "      <td>0.0</td>\n",
       "      <td>0.0</td>\n",
       "      <td>6230.0</td>\n",
       "      <td>0</td>\n",
       "      <td>2</td>\n",
       "      <td>0.0</td>\n",
       "      <td>0.0</td>\n",
       "      <td>0.0</td>\n",
       "      <td>...</td>\n",
       "      <td>0.0000</td>\n",
       "      <td>0.0000</td>\n",
       "      <td>0.0</td>\n",
       "      <td>0.0000</td>\n",
       "      <td>0.0000</td>\n",
       "      <td>0.0000</td>\n",
       "      <td>0.0000</td>\n",
       "      <td>126748</td>\n",
       "      <td>40.081112</td>\n",
       "      <td>-108.790048</td>\n",
       "    </tr>\n",
       "  </tbody>\n",
       "</table>\n",
       "<p>500 rows × 25 columns</p>\n",
       "</div>"
      ],
      "text/plain": [
       "                          latest.school.name  latest.aid.federal_loan_rate  \\\n",
       "0                   Alabama A & M University                        0.6552   \n",
       "1        University of Alabama at Birmingham                        0.4401   \n",
       "2                         Amridge University                        0.8423   \n",
       "3        University of Alabama in Huntsville                        0.3578   \n",
       "4                   Alabama State University                        0.7637   \n",
       "..                                       ...                           ...   \n",
       "495            Colorado Christian University                        0.4466   \n",
       "496                         Colorado College                        0.2365   \n",
       "497           Concorde Career College-Aurora                        0.7053   \n",
       "498                Colorado Mountain College                        0.0935   \n",
       "499  Colorado Northwestern Community College                        0.2024   \n",
       "\n",
       "     latest.cost.title_iv.private.all  \\\n",
       "0                                 0.0   \n",
       "1                                 0.0   \n",
       "2                                 0.0   \n",
       "3                                 0.0   \n",
       "4                                 0.0   \n",
       "..                                ...   \n",
       "495                             206.0   \n",
       "496                             214.0   \n",
       "497                             104.0   \n",
       "498                               0.0   \n",
       "499                               0.0   \n",
       "\n",
       "     latest.academics.program_reporter.programs_offered  \\\n",
       "0                                                  0.0    \n",
       "1                                                  0.0    \n",
       "2                                                  0.0    \n",
       "3                                                  0.0    \n",
       "4                                                  0.0    \n",
       "..                                                 ...    \n",
       "495                                                0.0    \n",
       "496                                                0.0    \n",
       "497                                               10.0    \n",
       "498                                                0.0    \n",
       "499                                                0.0    \n",
       "\n",
       "     latest.school.tuition_revenue_per_fte  latest.student.enrollment.all  \\\n",
       "0                                   9243.0                              0   \n",
       "1                                  11678.0                              0   \n",
       "2                                  14093.0                              0   \n",
       "3                                   8246.0                              0   \n",
       "4                                   8535.0                              0   \n",
       "..                                     ...                            ...   \n",
       "495                                11648.0                              0   \n",
       "496                                34550.0                              0   \n",
       "497                                20354.0                              0   \n",
       "498                                 2095.0                              0   \n",
       "499                                 6230.0                              0   \n",
       "\n",
       "     latest.school.degrees_awarded.highest  \\\n",
       "0                                        4   \n",
       "1                                        4   \n",
       "2                                        4   \n",
       "3                                        4   \n",
       "4                                        4   \n",
       "..                                     ...   \n",
       "495                                      4   \n",
       "496                                      4   \n",
       "497                                      2   \n",
       "498                                      3   \n",
       "499                                      2   \n",
       "\n",
       "     latest.admissions.sat_scores.midpoint.writing  \\\n",
       "0                                            414.0   \n",
       "1                                              0.0   \n",
       "2                                              0.0   \n",
       "3                                              0.0   \n",
       "4                                              0.0   \n",
       "..                                             ...   \n",
       "495                                            0.0   \n",
       "496                                            0.0   \n",
       "497                                            0.0   \n",
       "498                                            0.0   \n",
       "499                                            0.0   \n",
       "\n",
       "     latest.admissions.sat_scores.midpoint.math  \\\n",
       "0                                         460.0   \n",
       "1                                         644.0   \n",
       "2                                           0.0   \n",
       "3                                         655.0   \n",
       "4                                         457.0   \n",
       "..                                          ...   \n",
       "495                                         0.0   \n",
       "496                                         0.0   \n",
       "497                                         0.0   \n",
       "498                                         0.0   \n",
       "499                                         0.0   \n",
       "\n",
       "     latest.admissions.sat_scores.midpoint.critical_reading  ...  \\\n",
       "0                                                475.0       ...   \n",
       "1                                                637.0       ...   \n",
       "2                                                  0.0       ...   \n",
       "3                                                640.0       ...   \n",
       "4                                                488.0       ...   \n",
       "..                                                 ...       ...   \n",
       "495                                                0.0       ...   \n",
       "496                                                0.0       ...   \n",
       "497                                                0.0       ...   \n",
       "498                                                0.0       ...   \n",
       "499                                                0.0       ...   \n",
       "\n",
       "     latest.completion.completion_rate_4yr_150_white  \\\n",
       "0                                             0.3043   \n",
       "1                                             0.6276   \n",
       "2                                             1.0000   \n",
       "3                                             0.6098   \n",
       "4                                             0.3636   \n",
       "..                                               ...   \n",
       "495                                           0.6194   \n",
       "496                                           0.8743   \n",
       "497                                           0.0000   \n",
       "498                                           0.2353   \n",
       "499                                           0.0000   \n",
       "\n",
       "     latest.completion.completion_rate_4yr_150_2ormore  \\\n",
       "0                                               0.3214   \n",
       "1                                               0.5000   \n",
       "2                                               0.0000   \n",
       "3                                               0.6000   \n",
       "4                                               0.0625   \n",
       "..                                                 ...   \n",
       "495                                             0.5000   \n",
       "496                                             0.7609   \n",
       "497                                             0.0000   \n",
       "498                                             0.2000   \n",
       "499                                             0.0000   \n",
       "\n",
       "     latest.completion.completion_rate_4yr_150_nhpi  \\\n",
       "0                                               0.0   \n",
       "1                                               0.0   \n",
       "2                                               0.0   \n",
       "3                                               0.0   \n",
       "4                                               0.0   \n",
       "..                                              ...   \n",
       "495                                             0.0   \n",
       "496                                             0.0   \n",
       "497                                             0.0   \n",
       "498                                             0.0   \n",
       "499                                             0.0   \n",
       "\n",
       "     latest.completion.completion_rate_4yr_150_hispanic  \\\n",
       "0                                               0.2222    \n",
       "1                                               0.5769    \n",
       "2                                               0.0000    \n",
       "3                                               0.6444    \n",
       "4                                               0.4286    \n",
       "..                                                 ...    \n",
       "495                                             0.4419    \n",
       "496                                             0.8036    \n",
       "497                                             0.0000    \n",
       "498                                             0.3788    \n",
       "499                                             0.0000    \n",
       "\n",
       "     latest.completion.completion_rate_4yr_150_black  \\\n",
       "0                                             0.2805   \n",
       "1                                             0.5565   \n",
       "2                                             0.2857   \n",
       "3                                             0.4845   \n",
       "4                                             0.2844   \n",
       "..                                               ...   \n",
       "495                                           0.3333   \n",
       "496                                           0.7368   \n",
       "497                                           0.0000   \n",
       "498                                           0.0000   \n",
       "499                                           0.0000   \n",
       "\n",
       "     latest.completion.completion_rate_4yr_150_asian  \\\n",
       "0                                             0.0000   \n",
       "1                                             0.8354   \n",
       "2                                             0.0000   \n",
       "3                                             0.8125   \n",
       "4                                             0.3333   \n",
       "..                                               ...   \n",
       "495                                           0.5000   \n",
       "496                                           0.8966   \n",
       "497                                           0.0000   \n",
       "498                                           0.3333   \n",
       "499                                           0.0000   \n",
       "\n",
       "     latest.completion.completion_rate_4yr_150_aian      id  location.lat  \\\n",
       "0                                            0.0000  100654     34.783368   \n",
       "1                                            0.6000  100663     33.505697   \n",
       "2                                            0.0000  100690     32.362609   \n",
       "3                                            0.6667  100706     34.724557   \n",
       "4                                            0.0000  100724     32.364317   \n",
       "..                                              ...     ...           ...   \n",
       "495                                          0.0000  126669     39.713880   \n",
       "496                                          1.0000  126678     38.848860   \n",
       "497                                          0.0000  126687     39.718699   \n",
       "498                                          0.3333  126711     39.546360   \n",
       "499                                          0.0000  126748     40.081112   \n",
       "\n",
       "     location.lon  \n",
       "0      -86.568502  \n",
       "1      -86.799345  \n",
       "2      -86.174010  \n",
       "3      -86.640449  \n",
       "4      -86.295677  \n",
       "..            ...  \n",
       "495   -105.094560  \n",
       "496   -104.822697  \n",
       "497   -104.867089  \n",
       "498   -107.324441  \n",
       "499   -108.790048  \n",
       "\n",
       "[500 rows x 25 columns]"
      ]
     },
     "execution_count": 5,
     "metadata": {},
     "output_type": "execute_result"
    }
   ],
   "source": [
    "academics_df"
   ]
  },
  {
   "cell_type": "code",
   "execution_count": 6,
   "id": "bf9d2fd0",
   "metadata": {},
   "outputs": [],
   "source": [
    "Data_clean = academics_df.rename(columns={\n",
    "'latest.school.name' : 'School Name',\n",
    "'latest.cost.title_iv.private.all' : 'Title 4 Cost Private',\n",
    "'latest.academics.program_reporter.programs_offered' : 'No.of programs offered',\n",
    "'latest.school.tuition_revenue_per_fte' : 'Tuition FT Enrollment in $',\n",
    "'latest.student.enrollment.all': 'Enrollment',\n",
    "'latest.school.degrees_awarded.highest' : 'Highest degree awarded',\n",
    "'latest.admissions.sat_scores.midpoint.writing' : 'SAT Writing Midpoint',\n",
    "'latest.admissions.sat_scores.midpoint.math' : 'SAT Math Midpoint',\n",
    "'latest.admissions.sat_scores.midpoint.critical_reading' : 'SAT Critical Reading Midpoint',\n",
    "'latest.admissions.sat_scores.average.overall' : 'SAT Average Overall',\n",
    "'latest.admissions.act_scores.midpoint.writing' : 'ACT Writing Midpoint',\n",
    "'latest.admissions.act_scores.midpoint.math' : ' ACT Math Midpoint',\n",
    "'latest.admissions.act_scores.midpoint.english' : 'ACT English Midpoint',\n",
    "'latest.student.retention_rate.four_year.part_time_pooled' : 'Retention Rate FT',\n",
    "'latest.completion.completion_rate_4yr_150_white' : 'Completion Rate 4 year (White)',\n",
    "'latest.completion.completion_rate_4yr_150_2ormore' : 'Completion Rate 4 year (2 Or More Races)',\n",
    "'latest.completion.completion_rate_4yr_150_nhpi':'Completion Rate 4 year (Hawaian/Pacific Islander)',\n",
    "'latest.completion.completion_rate_4yr_150_hispanic':'Completion Rate 4 year (Hispanic)',\n",
    "'latest.completion.completion_rate_4yr_150_black' : 'Completion Rate 4 year (Black)',\n",
    "'latest.completion.completion_rate_4yr_150_asian' : 'Completion Rate 4 year (Asian)',\n",
    "'latest.completion.completion_rate_4yr_150_aian' : 'Completion Rate 4 year (American Indian)',\n",
    "'latest.completion.completion_rate_4yr_150nt_pooled': 'General Completion Rate',\n",
    "'latest.aid.federal_loan_rate' : '% of Students receiving Federal Loan',\n",
    "'location.lon' : 'Longitutde',\n",
    "'location.lat': 'latitude'\n",
    "})"
   ]
  },
  {
   "cell_type": "code",
   "execution_count": 7,
   "id": "c26c93b8",
   "metadata": {},
   "outputs": [
    {
     "data": {
      "text/plain": [
       "Index(['School Name', '% of Students receiving Federal Loan',\n",
       "       'Title 4 Cost Private', 'No.of programs offered',\n",
       "       'Tuition FT Enrollment in $', 'Enrollment', 'Highest degree awarded',\n",
       "       'SAT Writing Midpoint', 'SAT Math Midpoint',\n",
       "       'SAT Critical Reading Midpoint', 'SAT Average Overall',\n",
       "       'ACT Writing Midpoint', ' ACT Math Midpoint', 'ACT English Midpoint',\n",
       "       'Retention Rate FT', 'Completion Rate 4 year (White)',\n",
       "       'Completion Rate 4 year (2 Or More Races)',\n",
       "       'Completion Rate 4 year (Hawaian/Pacific Islander)',\n",
       "       'Completion Rate 4 year (Hispanic)', 'Completion Rate 4 year (Black)',\n",
       "       'Completion Rate 4 year (Asian)',\n",
       "       'Completion Rate 4 year (American Indian)', 'id', 'latitude',\n",
       "       'Longitutde'],\n",
       "      dtype='object')"
      ]
     },
     "execution_count": 7,
     "metadata": {},
     "output_type": "execute_result"
    }
   ],
   "source": [
    "Data_clean.columns"
   ]
  },
  {
   "cell_type": "code",
   "execution_count": 8,
   "id": "4a28e3ce",
   "metadata": {},
   "outputs": [],
   "source": [
    "Data_clean['Completion Rate 4 year (White)'] = Data_clean['Completion Rate 4 year (White)'] * 100\n",
    "Data_clean['Retention Rate FT'] = Data_clean['Retention Rate FT'] * 100\n",
    "Data_clean['Completion Rate 4 year (2 Or More Races)'] = Data_clean['Completion Rate 4 year (2 Or More Races)'] * 100\n",
    "Data_clean['Completion Rate 4 year (Hawaian/Pacific Islander)'] = Data_clean['Completion Rate 4 year (Hawaian/Pacific Islander)'] * 100\n",
    "Data_clean['Completion Rate 4 year (Hispanic)'] = Data_clean['Completion Rate 4 year (Hispanic)'] * 100\n",
    "Data_clean['Completion Rate 4 year (Asian)'] = Data_clean['Completion Rate 4 year (Asian)'] * 100\n",
    "Data_clean['Completion Rate 4 year (American Indian)'] = Data_clean['Completion Rate 4 year (American Indian)'] * 100\n",
    "Data_clean['Completion Rate 4 year (Black)'] = Data_clean['Completion Rate 4 year (Black)'] * 100\n",
    "Data_clean['% of Students receiving Federal Loan'] = Data_clean['% of Students receiving Federal Loan'] * 100\n"
   ]
  },
  {
   "cell_type": "code",
   "execution_count": 9,
   "id": "f0823573",
   "metadata": {},
   "outputs": [
    {
     "data": {
      "text/plain": [
       "0      56.00\n",
       "1      54.26\n",
       "2       0.00\n",
       "3      16.28\n",
       "4      16.92\n",
       "       ...  \n",
       "495    32.07\n",
       "496     0.00\n",
       "497     0.00\n",
       "498    26.09\n",
       "499     0.00\n",
       "Name: Retention Rate FT, Length: 500, dtype: float64"
      ]
     },
     "execution_count": 9,
     "metadata": {},
     "output_type": "execute_result"
    }
   ],
   "source": [
    "Data_clean['Retention Rate FT']"
   ]
  },
  {
   "cell_type": "code",
   "execution_count": 10,
   "id": "c3c3b392",
   "metadata": {},
   "outputs": [
    {
     "data": {
      "text/plain": [
       "0       954.0\n",
       "1      1266.0\n",
       "3      1300.0\n",
       "4       955.0\n",
       "5      1244.0\n",
       "        ...  \n",
       "479    1318.0\n",
       "480    1232.0\n",
       "487    1040.0\n",
       "491    1156.0\n",
       "494    1292.0\n",
       "Name: SAT Average Overall, Length: 69, dtype: float64"
      ]
     },
     "execution_count": 10,
     "metadata": {},
     "output_type": "execute_result"
    }
   ],
   "source": [
    "new_df = Data_clean[\"SAT Average Overall\"]\n",
    "new_df = new_df.drop(new_df[new_df.eq(0)].index)\n",
    "new_df "
   ]
  },
  {
   "cell_type": "code",
   "execution_count": 18,
   "id": "ae85639f",
   "metadata": {},
   "outputs": [
    {
     "data": {
      "text/plain": [
       "0       30.43\n",
       "1       62.76\n",
       "2      100.00\n",
       "3       60.98\n",
       "4       36.36\n",
       "        ...  \n",
       "492     45.36\n",
       "494     75.55\n",
       "495     61.94\n",
       "496     87.43\n",
       "498     23.53\n",
       "Name: Completion Rate 4 year (White), Length: 184, dtype: float64"
      ]
     },
     "execution_count": 18,
     "metadata": {},
     "output_type": "execute_result"
    }
   ],
   "source": [
    "white_df = Data_clean[\"Completion Rate 4 year (White)\"]\n",
    "white_df = white_df.drop(white_df[white_df.eq(0)].index)\n",
    "white_df"
   ]
  },
  {
   "cell_type": "code",
   "execution_count": 20,
   "id": "e4b23e21",
   "metadata": {},
   "outputs": [
    {
     "data": {
      "text/plain": [
       "0       30.43\n",
       "1       62.76\n",
       "2      100.00\n",
       "3       60.98\n",
       "4       36.36\n",
       "        ...  \n",
       "179     30.86\n",
       "182    100.00\n",
       "183     75.32\n",
       "185     36.30\n",
       "189     66.14\n",
       "Name: Completion Rate 4 year (White), Length: 69, dtype: float64"
      ]
     },
     "execution_count": 20,
     "metadata": {},
     "output_type": "execute_result"
    }
   ],
   "source": [
    "white_df.drop(white_df.index[69:184], inplace=True)\n",
    "white_df"
   ]
  },
  {
   "cell_type": "code",
   "execution_count": 24,
   "id": "14a65003",
   "metadata": {},
   "outputs": [
    {
     "data": {
      "image/png": "[encoded data removed]",
      "text/plain": [
       "<Figure size 640x480 with 1 Axes>"
      ]
     },
     "metadata": {},
     "output_type": "display_data"
    }
   ],
   "source": [
    "x_values = new_df.values\n",
    "y_values = white_df.values\n",
    "(slope, intercept, rvalue, pvalue, stderr) = linregress(x_values, y_values)\n",
    "regress_values = x_values * slope + intercept\n",
    "line_eq = \"y = \" + str(round(slope,2)) + \"x + \" + str(round(intercept,2))\n",
    "plt.scatter(x_values,y_values)\n",
    "plt.plot(x_values,regress_values,\"r-\")\n",
    "plt.annotate(line_eq,(900,90),fontsize=15,color=\"red\")\n",
    "plt.xlabel('SAT Average Overall')\n",
    "plt.ylabel('(White) Graduation Rate')\n",
    "plt.show()"
   ]
  },
  {
   "cell_type": "code",
   "execution_count": 25,
   "id": "dbff7f1e",
   "metadata": {},
   "outputs": [
    {
     "data": {
      "text/plain": [
       "5       62.50\n",
       "9      100.00\n",
       "15      33.33\n",
       "45      50.00\n",
       "50      66.67\n",
       "        ...  \n",
       "452     50.00\n",
       "458     66.67\n",
       "479    100.00\n",
       "492     66.67\n",
       "494     40.00\n",
       "Name: Completion Rate 4 year (Hawaian/Pacific Islander), Length: 79, dtype: float64"
      ]
     },
     "execution_count": 25,
     "metadata": {},
     "output_type": "execute_result"
    }
   ],
   "source": [
    "nhis_df = Data_clean['Completion Rate 4 year (Hawaian/Pacific Islander)']\n",
    "nhis_df = nhis_df.drop(nhis_df[nhis_df.eq(0)].index)\n",
    "nhis_df"
   ]
  },
  {
   "cell_type": "code",
   "execution_count": 29,
   "id": "d1ec367b",
   "metadata": {},
   "outputs": [
    {
     "data": {
      "text/plain": [
       "5       62.50\n",
       "9      100.00\n",
       "15      33.33\n",
       "45      50.00\n",
       "50      66.67\n",
       "        ...  \n",
       "396    100.00\n",
       "402     75.00\n",
       "413     53.33\n",
       "415     83.33\n",
       "416     50.00\n",
       "Name: Completion Rate 4 year (Hawaian/Pacific Islander), Length: 69, dtype: float64"
      ]
     },
     "execution_count": 29,
     "metadata": {},
     "output_type": "execute_result"
    }
   ],
   "source": [
    "nhis_df.drop(nhis_df.index[69:79], inplace=True)\n",
    "nhis_df"
   ]
  },
  {
   "cell_type": "code",
   "execution_count": 32,
   "id": "be8ed1ac",
   "metadata": {},
   "outputs": [
    {
     "data": {
      "image/png": "[encoded data removed]",
      "text/plain": [
       "<Figure size 640x480 with 1 Axes>"
      ]
     },
     "metadata": {},
     "output_type": "display_data"
    }
   ],
   "source": [
    "x_values = new_df.values\n",
    "y_values = nhis_df.values\n",
    "(slope, intercept, rvalue, pvalue, stderr) = linregress(x_values, y_values)\n",
    "regress_values = x_values * slope + intercept\n",
    "line_eq = \"y = \" + str(round(slope,2)) + \"x + \" + str(round(intercept,2))\n",
    "plt.scatter(x_values,y_values)\n",
    "plt.plot(x_values,regress_values,\"r-\")\n",
    "plt.annotate(line_eq,(900,90),fontsize=15,color=\"red\")\n",
    "plt.xlabel('SAT Average Overall')\n",
    "plt.ylabel('NHIS Graduation Rate')\n",
    "plt.show()"
   ]
  },
  {
   "cell_type": "code",
   "execution_count": 33,
   "id": "58ed192a",
   "metadata": {},
   "outputs": [
    {
     "data": {
      "text/plain": [
       "0      28.05\n",
       "1      55.65\n",
       "2      28.57\n",
       "3      48.45\n",
       "4      28.44\n",
       "       ...  \n",
       "491    54.69\n",
       "492    45.00\n",
       "494    67.96\n",
       "495    33.33\n",
       "496    73.68\n",
       "Name: Completion Rate 4 year (Black), Length: 172, dtype: float64"
      ]
     },
     "execution_count": 33,
     "metadata": {},
     "output_type": "execute_result"
    }
   ],
   "source": [
    "black_df = Data_clean['Completion Rate 4 year (Black)']\n",
    "black_df = black_df.drop(black_df[black_df.eq(0)].index)\n",
    "black_df"
   ]
  },
  {
   "cell_type": "code",
   "execution_count": 34,
   "id": "548eff14",
   "metadata": {},
   "outputs": [
    {
     "data": {
      "text/plain": [
       "0       28.05\n",
       "1       55.65\n",
       "2       28.57\n",
       "3       48.45\n",
       "4       28.44\n",
       "        ...  \n",
       "183     62.50\n",
       "185     34.43\n",
       "189     41.56\n",
       "190     42.86\n",
       "192    100.00\n",
       "Name: Completion Rate 4 year (Black), Length: 69, dtype: float64"
      ]
     },
     "execution_count": 34,
     "metadata": {},
     "output_type": "execute_result"
    }
   ],
   "source": [
    "black_df.drop(black_df.index[69:172], inplace=True)\n",
    "black_df"
   ]
  },
  {
   "cell_type": "code",
   "execution_count": 35,
   "id": "34dbbe2a",
   "metadata": {},
   "outputs": [
    {
     "data": {
      "image/png": "[encoded data removed]",
      "text/plain": [
       "<Figure size 640x480 with 1 Axes>"
      ]
     },
     "metadata": {},
     "output_type": "display_data"
    }
   ],
   "source": [
    "x_values = new_df.values\n",
    "y_values = black_df.values\n",
    "(slope, intercept, rvalue, pvalue, stderr) = linregress(x_values, y_values)\n",
    "regress_values = x_values * slope + intercept\n",
    "line_eq = \"y = \" + str(round(slope,2)) + \"x + \" + str(round(intercept,2))\n",
    "plt.scatter(x_values,y_values)\n",
    "plt.plot(x_values,regress_values,\"r-\")\n",
    "plt.annotate(line_eq,(900,90),fontsize=15,color=\"red\")\n",
    "plt.xlabel('SAT Average Overall')\n",
    "plt.ylabel('Black Graduation Rate')\n",
    "plt.show()"
   ]
  },
  {
   "cell_type": "code",
   "execution_count": 36,
   "id": "f51da82f",
   "metadata": {},
   "outputs": [
    {
     "data": {
      "text/plain": [
       "1      83.54\n",
       "3      81.25\n",
       "4      33.33\n",
       "5      79.12\n",
       "8      22.22\n",
       "       ...  \n",
       "492    44.44\n",
       "494    78.70\n",
       "495    50.00\n",
       "496    89.66\n",
       "498    33.33\n",
       "Name: Completion Rate 4 year (Asian), Length: 162, dtype: float64"
      ]
     },
     "execution_count": 36,
     "metadata": {},
     "output_type": "execute_result"
    }
   ],
   "source": [
    "asian_df = Data_clean['Completion Rate 4 year (Asian)']\n",
    "asian_df = asian_df.drop(asian_df[asian_df.eq(0)].index)\n",
    "asian_df"
   ]
  },
  {
   "cell_type": "code",
   "execution_count": 37,
   "id": "58d073a7",
   "metadata": {},
   "outputs": [
    {
     "data": {
      "text/plain": [
       "1      83.54\n",
       "3      81.25\n",
       "4      33.33\n",
       "5      79.12\n",
       "8      22.22\n",
       "       ...  \n",
       "203    79.94\n",
       "204    60.41\n",
       "205    80.19\n",
       "206    64.63\n",
       "207    66.18\n",
       "Name: Completion Rate 4 year (Asian), Length: 69, dtype: float64"
      ]
     },
     "execution_count": 37,
     "metadata": {},
     "output_type": "execute_result"
    }
   ],
   "source": [
    "asian_df.drop(asian_df.index[69:162], inplace=True)\n",
    "asian_df"
   ]
  },
  {
   "cell_type": "code",
   "execution_count": 38,
   "id": "e32f54c2",
   "metadata": {},
   "outputs": [
    {
     "data": {
      "image/png": "[encoded data removed]",
      "text/plain": [
       "<Figure size 640x480 with 1 Axes>"
      ]
     },
     "metadata": {},
     "output_type": "display_data"
    }
   ],
   "source": [
    "x_values = new_df.values\n",
    "y_values = asian_df.values\n",
    "(slope, intercept, rvalue, pvalue, stderr) = linregress(x_values, y_values)\n",
    "regress_values = x_values * slope + intercept\n",
    "line_eq = \"y = \" + str(round(slope,2)) + \"x + \" + str(round(intercept,2))\n",
    "plt.scatter(x_values,y_values)\n",
    "plt.plot(x_values,regress_values,\"r-\")\n",
    "plt.annotate(line_eq,(900,90),fontsize=15,color=\"red\")\n",
    "plt.xlabel('SAT Average Overall')\n",
    "plt.ylabel('Asian Graduation Rate')\n",
    "plt.show()"
   ]
  },
  {
   "cell_type": "code",
   "execution_count": 43,
   "id": "a03fbc57",
   "metadata": {},
   "outputs": [
    {
     "data": {
      "text/plain": [
       "1       60.00\n",
       "3       66.67\n",
       "5       62.07\n",
       "8       40.00\n",
       "9       79.17\n",
       "        ...  \n",
       "480    100.00\n",
       "487     33.33\n",
       "494     31.25\n",
       "496    100.00\n",
       "498     33.33\n",
       "Name: Completion Rate 4 year (American Indian), Length: 111, dtype: float64"
      ]
     },
     "execution_count": 43,
     "metadata": {},
     "output_type": "execute_result"
    }
   ],
   "source": [
    "ai_df = Data_clean['Completion Rate 4 year (American Indian)']\n",
    "ai_df = ai_df.drop(ai_df[ai_df.eq(0)].index)\n",
    "ai_df"
   ]
  },
  {
   "cell_type": "code",
   "execution_count": 40,
   "id": "77bc2e39",
   "metadata": {},
   "outputs": [
    {
     "data": {
      "text/plain": [
       "1       60.00\n",
       "3       66.67\n",
       "5       62.07\n",
       "8       40.00\n",
       "9       79.17\n",
       "        ...  \n",
       "214    100.00\n",
       "216     66.67\n",
       "217    100.00\n",
       "223     50.00\n",
       "240     80.00\n",
       "Name: Completion Rate 4 year (American Indian), Length: 69, dtype: float64"
      ]
     },
     "execution_count": 40,
     "metadata": {},
     "output_type": "execute_result"
    }
   ],
   "source": [
    "ai_df.drop(ai_df.index[69:111], inplace=True)\n",
    "ai_df"
   ]
  },
  {
   "cell_type": "code",
   "execution_count": 42,
   "id": "10b71f25",
   "metadata": {},
   "outputs": [
    {
     "data": {
      "image/png": "[encoded data removed]",
      "text/plain": [
       "<Figure size 640x480 with 1 Axes>"
      ]
     },
     "metadata": {},
     "output_type": "display_data"
    }
   ],
   "source": [
    "x_values = new_df.values\n",
    "y_values = ai_df.values\n",
    "(slope, intercept, rvalue, pvalue, stderr) = linregress(x_values, y_values)\n",
    "regress_values = x_values * slope + intercept\n",
    "line_eq = \"y = \" + str(round(slope,2)) + \"x + \" + str(round(intercept,2))\n",
    "plt.scatter(x_values,y_values)\n",
    "plt.plot(x_values,regress_values,\"r-\")\n",
    "plt.annotate(line_eq,(900,90),fontsize=15,color=\"red\")\n",
    "plt.xlabel('SAT Average Overall')\n",
    "plt.ylabel('Indian Graduation Rate')\n",
    "plt.show()"
   ]
  },
  {
   "cell_type": "code",
   "execution_count": 44,
   "id": "d652cd58",
   "metadata": {},
   "outputs": [
    {
     "data": {
      "text/plain": [
       "0      32.14\n",
       "1      50.00\n",
       "3      60.00\n",
       "4       6.25\n",
       "5      66.49\n",
       "       ...  \n",
       "492    47.79\n",
       "494    69.76\n",
       "495    50.00\n",
       "496    76.09\n",
       "498    20.00\n",
       "Name: Completion Rate 4 year (2 Or More Races), Length: 154, dtype: float64"
      ]
     },
     "execution_count": 44,
     "metadata": {},
     "output_type": "execute_result"
    }
   ],
   "source": [
    "mr_df = Data_clean['Completion Rate 4 year (2 Or More Races)']\n",
    "mr_df = mr_df.drop(mr_df[mr_df.eq(0)].index)\n",
    "mr_df"
   ]
  },
  {
   "cell_type": "code",
   "execution_count": 46,
   "id": "881589aa",
   "metadata": {},
   "outputs": [
    {
     "data": {
      "text/plain": [
       "0      32.14\n",
       "1      50.00\n",
       "3      60.00\n",
       "4       6.25\n",
       "5      66.49\n",
       "       ...  \n",
       "203    75.50\n",
       "204    48.75\n",
       "205    75.19\n",
       "206    44.12\n",
       "207    56.00\n",
       "Name: Completion Rate 4 year (2 Or More Races), Length: 69, dtype: float64"
      ]
     },
     "execution_count": 46,
     "metadata": {},
     "output_type": "execute_result"
    }
   ],
   "source": [
    "mr_df.drop(mr_df.index[69:154], inplace=True)\n",
    "mr_df"
   ]
  },
  {
   "cell_type": "code",
   "execution_count": 48,
   "id": "ff7e2281",
   "metadata": {},
   "outputs": [
    {
     "data": {
      "image/png": "[encoded data removed]",
      "text/plain": [
       "<Figure size 640x480 with 1 Axes>"
      ]
     },
     "metadata": {},
     "output_type": "display_data"
    }
   ],
   "source": [
    "x_values = new_df.values\n",
    "y_values = mr_df.values\n",
    "(slope, intercept, rvalue, pvalue, stderr) = linregress(x_values, y_values)\n",
    "regress_values = x_values * slope + intercept\n",
    "line_eq = \"y = \" + str(round(slope,2)) + \"x + \" + str(round(intercept,2))\n",
    "plt.scatter(x_values,y_values)\n",
    "plt.plot(x_values,regress_values,\"r-\")\n",
    "plt.annotate(line_eq,(900,90),fontsize=15,color=\"red\")\n",
    "plt.xlabel('SAT Average Overall')\n",
    "plt.ylabel('Multi-racial Graduation Rate')\n",
    "plt.show()"
   ]
  },
  {
   "cell_type": "code",
   "execution_count": null,
   "id": "81735f8a",
   "metadata": {},
   "outputs": [],
   "source": []
  },
  {
   "cell_type": "code",
   "execution_count": null,
   "id": "1f101437",
   "metadata": {},
   "outputs": [],
   "source": []
  },
  {
   "cell_type": "code",
   "execution_count": null,
   "id": "35f01ebc",
   "metadata": {},
   "outputs": [],
   "source": []
  },
  {
   "cell_type": "code",
   "execution_count": null,
   "id": "55e53386",
   "metadata": {},
   "outputs": [],
   "source": []
  },
  {
   "cell_type": "code",
   "execution_count": null,
   "id": "3fb1e05d",
   "metadata": {},
   "outputs": [],
   "source": []
  }
 ],
 "metadata": {
  "kernelspec": {
   "display_name": "Python 3 (ipykernel)",
   "language": "python",
   "name": "python3"
  },
  "language_info": {
   "codemirror_mode": {
    "name": "ipython",
    "version": 3
   },
   "file_extension": ".py",
   "mimetype": "text/x-python",
   "name": "python",
   "nbconvert_exporter": "python",
   "pygments_lexer": "ipython3",
   "version": "3.9.13"
  }
 },
 "nbformat": 4,
 "nbformat_minor": 5
}
