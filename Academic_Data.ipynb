{
 "cells": [
  {
   "cell_type": "code",
   "execution_count": 3,
   "id": "323e1e33",
   "metadata": {},
   "outputs": [],
   "source": [
    "import json\n",
    "import os"
   ]
  },
  {
   "cell_type": "code",
   "execution_count": 4,
   "id": "26978c4d",
   "metadata": {},
   "outputs": [],
   "source": [
    "# Create an empty list to store the JSON objects\n",
    "json_objects = []\n",
    "\n",
    "# Get the path to the JSON files\n",
    "path = os.path.join(os.getcwd(), \"data\")\n",
    "\n",
    "# Iterate over the JSON files\n",
    "for file in os.listdir(path):\n",
    "    # Read the JSON file\n",
    "    with open(os.path.join(path, file), \"r\") as f:\n",
    "        json_object = json.load(f)\n",
    "        # Add the JSON object to the list\n",
    "        json_objects.append({file[:-5]: json_object})\n",
    "\n",
    "# Convert the list of JSON objects to a JSON array\n",
    "json_array = json.dumps(json_objects, indent=4)\n",
    "\n",
    "# Write the JSON array to a file\n",
    "with open(\"data/compiled_data.json\", \"w\") as f:\n",
    "    f.write(json_array)\n"
   ]
  },
  {
   "cell_type": "code",
   "execution_count": null,
   "id": "797b0474",
   "metadata": {},
   "outputs": [],
   "source": []
  }
 ],
 "metadata": {
  "kernelspec": {
   "display_name": "pythondata2",
   "language": "python",
   "name": "pythondata2"
  },
  "language_info": {
   "codemirror_mode": {
    "name": "ipython",
    "version": 3
   },
   "file_extension": ".py",
   "mimetype": "text/x-python",
   "name": "python",
   "nbconvert_exporter": "python",
   "pygments_lexer": "ipython3",
   "version": "3.9.16"
  }
 },
 "nbformat": 4,
 "nbformat_minor": 5
}
