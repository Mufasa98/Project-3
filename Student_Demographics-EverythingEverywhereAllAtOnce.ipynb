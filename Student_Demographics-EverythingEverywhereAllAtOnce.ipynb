{
 "cells": [
  {
   "cell_type": "code",
   "execution_count": 1,
   "id": "1cf886df",
   "metadata": {},
   "outputs": [],
   "source": [
    "# Importing All the Stuffs\n",
    "import pandas as pd\n",
    "import numpy as np\n",
    "import requests\n",
    "import json\n",
    "from pprint import pprint\n",
    "\n",
    "# Import API key\n",
    "from doe_api import doe_key"
   ]
  },
  {
   "cell_type": "code",
   "execution_count": 8,
   "id": "3a76325c",
   "metadata": {},
   "outputs": [],
   "source": [
    "#INCOME\n",
    "\n",
    "url = 'https://api.data.gov/ed/collegescorecard/v1/schools.json'\n",
    "params2 = {\n",
    "    'api_key': doe_key,\n",
    "    'per_page': 250,\n",
    "    'fields': \"id,location.lon,\"+\n",
    "    \"location.lat,latest.school.name,\"+\n",
    "    \"latest.admissions.sat_scores.average.overall,\"+\n",
    "    \n",
    "    #median income\n",
    "    \"latest.student.demographics.median_family_income,\"+\n",
    "    \"latest.student.demographics.median_hh_income\"+\n",
    "    \n",
    "    #low income\n",
    "    #general completion\n",
    "    #\"latest.completion.title_iv.low_inc.completed_by.2yrs,\"+\n",
    "    \"latest.completion.title_iv.low_inc.completed_by.3yrs,\"+\n",
    "    \"latest.completion.title_iv.low_inc.completed_by.4yrs,\"+\n",
    "    \"latest.completion.title_iv.low_inc.completed_by.6yrs,\"+\n",
    "    \"latest.completion.title_iv.low_inc.completed_by.8yrs,\"+\n",
    "    \n",
    "    #general withdrew\n",
    "    \"latest.completion.title_iv.low_inc.withdrawn_by.2yrs,\"+\n",
    "    \"latest.completion.title_iv.low_inc.withdrawn_by.3yrs,\"+\n",
    "    \"latest.completion.title_iv.low_inc.withdrawn_by.4yrs,\"+\n",
    "    \"latest.completion.title_iv.low_inc.withdrawn_by.6yrs,\"+\n",
    "    \"latest.completion.title_iv.low_inc.withdrawn_by.8yrs,\"+\n",
    "    \n",
    "    #transferred and withdrew\n",
    "    #\"latest.completion.title_iv.low_inc.transf_withdrawn_4yr_by.2yrs,latest.completion.title_iv.low_inc.transf_withdrawn_4yr_by.3yrs,\"+\n",
    "    #\"latest.completion.title_iv.low_inc.transf_withdrawn_4yr_by.4yrs,latest.completion.title_iv.low_inc.transf_withdrawn_4yr_by.6yrs,\"+\n",
    "    #\"latest.completion.title_iv.low_inc.transf_withdrawn_4yr_by.8yrs,\"+\n",
    "    \n",
    "    #transferred and completed\n",
    "    #\"latest.completion.title_iv.low_inc.transf_completed_4yr_by.2yrs,latest.completion.title_iv.low_inc.transf_completed_4yr_by.3yrs,\"+\n",
    "    #\"latest.completion.title_iv.low_inc.transf_completed_4yr_by.4yrs,latest.completion.title_iv.low_inc.transf_completed_4yr_by.6yrs,\"+\n",
    "    #\"latest.completion.title_iv.low_inc.transf_completed_4yr_by.8yrs,\"+\n",
    "    \n",
    "    #middle income\n",
    "    #general completion\n",
    "    #\"latest.completion.title_iv.mid_inc.completed_by.2yrs,\"+\n",
    "    \"latest.completion.title_iv.mid_inc.completed_by.3yrs,\"+\n",
    "    \"latest.completion.title_iv.mid_inc.completed_by.4yrs,\"+\n",
    "    \"latest.completion.title_iv.mid_inc.completed_by.6yrs,\"+\n",
    "    \"latest.completion.title_iv.mid_inc.completed_by.8yrs,\"+\n",
    "    \n",
    "    #general withdrew\n",
    "    \"latest.completion.title_iv.mid_inc.withdrawn_by.2yrs,\"+\n",
    "    \"latest.completion.title_iv.mid_inc.withdrawn_by.3yrs,\"+\n",
    "    \"latest.completion.title_iv.mid_inc.withdrawn_by.4yrs,\"+\n",
    "    \"latest.completion.title_iv.mid_inc.withdrawn_by.6yrs,\"+\n",
    "    \"latest.completion.title_iv.mid_inc.withdrawn_by.8yrs,\"+\n",
    "    \n",
    "    #transferred and withdrew\n",
    "    #\"latest.completion.title_iv.mid_inc.transf_withdrawn_4yr_by.2yrs,latest.completion.title_iv.mid_inc.transf_withdrawn_4yr_by.3yrs,\"+\n",
    "    #\"latest.completion.title_iv.mid_inc.transf_withdrawn_4yr_by.4yrs,latest.completion.title_iv.mid_inc.transf_withdrawn_4yr_by.6yrs,\"+\n",
    "    #\"latest.completion.title_iv.mid_inc.transf_withdrawn_4yr_by.8yrs,\"+\n",
    "    \n",
    "    #transferred and completed\n",
    "    #\"latest.completion.title_iv.mid_inc.transf_completed_4yr_by.2yrs,latest.completion.title_iv.mid_inc.transf_completed_4yr_by.3yrs,\"+\n",
    "    #\"latest.completion.title_iv.mid_inc.transf_completed_4yr_by.4yrs,latest.completion.title_iv.mid_inc.transf_completed_4yr_by.6yrs,\"+\n",
    "    #\"latest.completion.title_iv.mid_inc.transf_completed_4yr_by.8yrs,\"+\n",
    "    \n",
    "    #high income\n",
    "    #general completion\n",
    "    #\"latest.completion.title_iv.high_inc.completed_by.2yrs,\"+\n",
    "    \"latest.completion.title_iv.high_inc.completed_by.3yrs,\"+\n",
    "    \"latest.completion.title_iv.high_inc.completed_by.4yrs,\"+\n",
    "    \"latest.completion.title_iv.high_inc.completed_by.6yrs,\"+\n",
    "    \"latest.completion.title_iv.high_inc.completed_by.8yrs,\"+\n",
    "    \n",
    "    #general withdrew\n",
    "    \"latest.completion.title_iv.high_inc.withdrawn_by.2yrs,\"+\n",
    "    \"latest.completion.title_iv.high_inc.withdrawn_by.3yrs,\"+\n",
    "    \"latest.completion.title_iv.high_inc.withdrawn_by.4yrs,\"+\n",
    "    \"latest.completion.title_iv.high_inc.withdrawn_by.6yrs,\"+\n",
    "    \"latest.completion.title_iv.high_inc.withdrawn_by.8yrs,\"+\n",
    "    \n",
    "    #transferred and withdrew\n",
    "    #\"latest.completion.title_iv.high_inc.transf_withdrawn_4yr_by.2yrs,latest.completion.title_iv.high_inc.transf_withdrawn_4yr_by.3yrs,\"+\n",
    "    #\"latest.completion.title_iv.high_inc.transf_withdrawn_4yr_by.4yrs,latest.completion.title_iv.high_inc.transf_withdrawn_4yr_by.6yrs,\"+\n",
    "    #\"latest.completion.title_iv.high_inc.transf_withdrawn_4yr_by.8yrs,\"+\n",
    "    \n",
    "    #transferred and completed\n",
    "    #\"latest.completion.title_iv.high_inc.transf_completed_4yr_by.2yrs,latest.completion.title_iv.high_inc.transf_completed_4yr_by.3yrs,\"+\n",
    "    #\"latest.completion.title_iv.high_inc.transf_completed_4yr_by.4yrs,latest.completion.title_iv.high_inc.transf_completed_4yr_by.6yrs,\"+\n",
    "    #\"latest.completion.title_iv.high_inc.transf_completed_4yr_by.8yrs\"+\n",
    "    \n",
    "    #page marker\n",
    "    'page=0'\n",
    "    \n",
    "    \n",
    "}"
   ]
  },
  {
   "cell_type": "code",
   "execution_count": 9,
   "id": "fe70744e",
   "metadata": {},
   "outputs": [],
   "source": [
    "# Initialize an empty list to store the data\n",
    "income_data = []\n",
    "#starting page is 0\n",
    "params2['page'] = 0\n",
    "\n",
    "#loop that will loop through the page until we reach page 6\n",
    "while params2['page'] < 150:\n",
    "    #api call\n",
    "    response = requests.get(url, params=params2).json()\n",
    "    next_page_results = response.get(\"results\", [])\n",
    "    income_data.extend(next_page_results)\n",
    "    #to go to the next page of results\n",
    "    params2['page'] += 1"
   ]
  },
  {
   "cell_type": "code",
   "execution_count": 10,
   "id": "d7b03365",
   "metadata": {},
   "outputs": [
    {
     "data": {
      "text/plain": [
       "Index([], dtype='object')"
      ]
     },
     "execution_count": 10,
     "metadata": {},
     "output_type": "execute_result"
    }
   ],
   "source": [
    "income_df = pd.DataFrame(income_data)\n",
    "#income_df = income_df.fillna(0)\n",
    "income_df.columns\n"
   ]
  },
  {
   "cell_type": "code",
   "execution_count": null,
   "id": "7a941bdd",
   "metadata": {},
   "outputs": [],
   "source": [
    "income_clean = income_df.rename(columns={\n",
    "    'latest.school.name':'School Name',\n",
    "    'latest.student.demographics.median_family_income':'Median Family Income',\n",
    "    'latest.admissions.sat_scores.average.overall' : 'SAT Average Overall',\n",
    "    #'latest.completion.title_iv.low_inc.completed_by.3yrs':'Percent of Low Income that completed within 3 years',\n",
    "    'latest.completion.title_iv.low_inc.completed_by.4yrs': '% of Low Income that completed within 4 years',\n",
    "    'latest.completion.title_iv.low_inc.completed_by.6yrs': '% of Low Income that completed within 6 years',\n",
    "    'latest.completion.title_iv.low_inc.completed_by.8yrs': '% of Low Income that completed within 8 years',\n",
    "    'latest.completion.title_iv.low_inc.withdrawn_by.2yrs': '% of Low Income that withdrew within 2 years',\n",
    "    'latest.completion.title_iv.low_inc.withdrawn_by.3yrs': '% of Low Income that withdrew within 3 years',\n",
    "    'latest.completion.title_iv.low_inc.withdrawn_by.4yrs': '% of Low Income that withdrew within 4 years',\n",
    "    'latest.completion.title_iv.low_inc.withdrawn_by.6yrs': '% of Low Income that withdrew within 6 years',\n",
    "    'latest.completion.title_iv.low_inc.withdrawn_by.8yrs':'% of Low Income that withdrew within 8 years',\n",
    "    'latest.completion.title_iv.mid_inc.completed_by.3yrs': '% of Middle Income that completed within 3 years',\n",
    "    'latest.completion.title_iv.mid_inc.completed_by.4yrs': '% of Middle Income that completed within 4 years',\n",
    "    'latest.completion.title_iv.mid_inc.completed_by.6yrs': '% of Middle Income that completed within 6 years',\n",
    "    'latest.completion.title_iv.mid_inc.completed_by.8yrs': '% of Middle Income that completed within 8 years',\n",
    "    'latest.completion.title_iv.mid_inc.withdrawn_by.2yrs': '% of Middle Income that withdrew within 2 years',\n",
    "    'latest.completion.title_iv.mid_inc.withdrawn_by.3yrs': '% of Middle Income that withdrew within 3 years',\n",
    "    'latest.completion.title_iv.mid_inc.withdrawn_by.4yrs': '% of Middle Income that withdrew within 4 years',\n",
    "    'latest.completion.title_iv.mid_inc.withdrawn_by.6yrs': '% of Middle Income that withdrew within 6 years',\n",
    "    'latest.completion.title_iv.mid_inc.withdrawn_by.8yrs': '% of Middle Income that withdrew within 8 years',\n",
    "    'latest.completion.title_iv.high_inc.completed_by.3yrs':'% of High Income that completed 3 years',\n",
    "    'latest.completion.title_iv.high_inc.completed_by.4yrs':'% of High Income that completed 4 years',\n",
    "    'latest.completion.title_iv.high_inc.completed_by.6yrs':'% of High Income that completed 6 years',\n",
    "    'latest.completion.title_iv.high_inc.completed_by.8yrs':'% of High Income that completed 8 years',\n",
    "    'latest.completion.title_iv.high_inc.withdrawn_by.2yrs':'% of High Income that withdrew within 2 years',\n",
    "    'latest.completion.title_iv.high_inc.withdrawn_by.3yrs':'% of High Income that withdrew within 3 years',\n",
    "    'latest.completion.title_iv.high_inc.withdrawn_by.4yrs':'% of High Income that withdrew within 4 years',\n",
    "    'latest.completion.title_iv.high_inc.withdrawn_by.6yrs':'% of High Income that withdrew within 6 years',\n",
    "    'latest.completion.title_iv.high_inc.withdrawn_by.8yrs':'% of High Income that withdrew within 8 years',\n",
    "    'location.lat': 'Latitude',\n",
    "    'location.lon': 'Longitude'\n",
    "    })"
   ]
  },
  {
   "cell_type": "code",
   "execution_count": null,
   "id": "03f68ef4",
   "metadata": {},
   "outputs": [],
   "source": [
    "income_clean.columns"
   ]
  },
  {
   "cell_type": "code",
   "execution_count": null,
   "id": "0f237952",
   "metadata": {},
   "outputs": [],
   "source": [
    "income_clean"
   ]
  },
  {
   "cell_type": "code",
   "execution_count": null,
   "id": "5e741132",
   "metadata": {},
   "outputs": [],
   "source": [
    "income_clean['% of Low Income that completed within 4 years'] = income_clean['% of Low Income that completed within 4 years'] * 100\n",
    "income_clean['% of Low Income that completed within 6 years'] = income_clean['% of Low Income that completed within 6 years'] * 100\n",
    "income_clean['% of Low Income that completed within 8 years'] = income_clean['% of Low Income that completed within 8 years'] * 100\n",
    "income_clean['% of Low Income that withdrew within 2 years'] = income_clean['% of Low Income that withdrew within 2 years'] * 100\n",
    "income_clean['% of Low Income that withdrew within 3 years'] = income_clean['% of Low Income that withdrew within 3 years'] * 100\n",
    "income_clean['% of Low Income that withdrew within 4 years'] = income_clean['% of Low Income that withdrew within 4 years'] * 100\n",
    "income_clean['% of Low Income that withdrew within 6 years'] = income_clean['% of Low Income that withdrew within 6 years'] * 100\n",
    "income_clean['% of Low Income that withdrew within 8 years'] = income_clean['% of Low Income that withdrew within 8 years'] * 100\n",
    "income_clean['% of Middle Income that completed within 3 years'] = income_clean[\"% of Middle Income that completed within 3 years\"] * 100\n",
    "income_clean['% of Middle Income that completed within 4 years'] = income_clean['% of Middle Income that completed within 4 years'] * 100\n",
    "income_clean['% of Middle Income that completed within 6 years'] = income_clean['% of Middle Income that completed within 6 years'] * 100\n",
    "income_clean['% of Middle Income that completed within 8 years'] = income_clean['% of Middle Income that completed within 8 years'] * 100\n",
    "income_clean['% of Middle Income that withdrew within 2 years'] = income_clean['% of Middle Income that withdrew within 2 years'] * 100\n",
    "income_clean['% of Middle Income that withdrew within 3 years'] = income_clean['% of Middle Income that withdrew within 3 years'] * 100\n",
    "income_clean['% of Middle Income that withdrew within 4 years'] = income_clean['% of Middle Income that withdrew within 4 years'] * 100\n",
    "income_clean['% of Middle Income that withdrew within 6 years'] = income_clean['% of Middle Income that withdrew within 6 years'] * 100\n",
    "income_clean['% of Middle Income that withdrew within 8 years'] = income_clean['% of Middle Income that withdrew within 8 years'] * 100\n",
    "income_clean['% of High Income that completed 3 years'] = income_clean['% of High Income that completed 3 years'] * 100\n",
    "income_clean['% of High Income that completed 4 years'] = income_clean['% of High Income that completed 4 years'] * 100\n",
    "income_clean['% of High Income that completed 6 years'] = income_clean['% of High Income that completed 6 years'] * 100\n",
    "income_clean['% of High Income that completed 8 years'] = income_clean['% of High Income that completed 8 years'] * 100\n",
    "income_clean['% of High Income that withdrew within 2 years'] = income_clean['% of High Income that withdrew within 2 years'] * 100\n",
    "income_clean['% of High Income that withdrew within 3 years'] = income_clean['% of High Income that withdrew within 3 years'] * 100\n",
    "income_clean['% of High Income that withdrew within 4 years'] = income_clean['% of High Income that withdrew within 4 years'] * 100\n",
    "income_clean['% of High Income that withdrew within 6 years'] = income_clean['% of High Income that withdrew within 6 years'] * 100\n",
    "income_clean['% of High Income that withdrew within 8 years'] = income_clean['% of High Income that withdrew within 8 years'] * 100\n",
    "\n",
    "\n",
    "                                                                                \n"
   ]
  },
  {
   "cell_type": "code",
   "execution_count": null,
   "id": "3ce7b965",
   "metadata": {
    "scrolled": false
   },
   "outputs": [],
   "source": [
    "income_clean"
   ]
  },
  {
   "cell_type": "code",
   "execution_count": null,
   "id": "b907cea0",
   "metadata": {},
   "outputs": [],
   "source": [
    "income_clean = income_clean.fillna(0)"
   ]
  },
  {
   "cell_type": "code",
   "execution_count": null,
   "id": "b51a9c74",
   "metadata": {},
   "outputs": [],
   "source": [
    "income_clean"
   ]
  },
  {
   "cell_type": "code",
   "execution_count": null,
   "id": "232bed26",
   "metadata": {},
   "outputs": [],
   "source": [
    "income_clean= income_clean.round(decimals=2)"
   ]
  },
  {
   "cell_type": "code",
   "execution_count": null,
   "id": "cc792371",
   "metadata": {},
   "outputs": [],
   "source": [
    "income_clean = income_clean[income_clean['SAT Average Overall'] != 0]"
   ]
  },
  {
   "cell_type": "code",
   "execution_count": null,
   "id": "051acf60",
   "metadata": {},
   "outputs": [],
   "source": [
    "income_clean = income_clean.drop_duplicates(subset='School Name')"
   ]
  },
  {
   "cell_type": "code",
   "execution_count": null,
   "id": "43ff8c95",
   "metadata": {},
   "outputs": [],
   "source": [
    "income_clean = income_clean.set_index('School Name')"
   ]
  },
  {
   "cell_type": "code",
   "execution_count": null,
   "id": "f0571ea8",
   "metadata": {},
   "outputs": [],
   "source": [
    "income_clean.to_json('Jsons/income_clean.json' , orient = 'index', compression = 'infer' , index = 'true')"
   ]
  },
  {
   "cell_type": "code",
   "execution_count": null,
   "id": "c06dcce0",
   "metadata": {},
   "outputs": [],
   "source": [
    "income_clean.to_csv('CSVs/income_clean.csv')"
   ]
  },
  {
   "cell_type": "code",
   "execution_count": null,
   "id": "c35ec366",
   "metadata": {},
   "outputs": [],
   "source": [
    "income_clean.columns"
   ]
  },
  {
   "cell_type": "code",
   "execution_count": null,
   "id": "563f9321",
   "metadata": {},
   "outputs": [],
   "source": [
    "income_clean"
   ]
  },
  {
   "cell_type": "code",
   "execution_count": null,
   "id": "dd053b79",
   "metadata": {},
   "outputs": [],
   "source": []
  },
  {
   "cell_type": "code",
   "execution_count": null,
   "id": "4d240ac5",
   "metadata": {},
   "outputs": [],
   "source": []
  },
  {
   "cell_type": "code",
   "execution_count": null,
   "id": "442cd6bb",
   "metadata": {},
   "outputs": [],
   "source": []
  },
  {
   "cell_type": "code",
   "execution_count": null,
   "id": "2b98c44b",
   "metadata": {},
   "outputs": [],
   "source": [
    "#DEPENDENT/INDEPENDENT\n",
    "#GENERATION\n",
    "\n",
    "\n",
    "url = 'https://api.data.gov/ed/collegescorecard/v1/schools.json'\n",
    "params4 = {\n",
    "    'api_key': doe_key,\n",
    "    'per_page': 250,\n",
    "    'fields': \"id,location.lon,location.lat,latest.school.name,\"+\n",
    "    'latest.admissions.sat_scores.average.overall,'+\n",
    "    \n",
    "    #students financially independent/dependent\n",
    "    \"latest.student.share_independent_lowincome.0_30000,latest.student.share_independent_students,latest.student.share_dependent_lowincome.0_300000,\"+\n",
    "    \"latest.student.share_lowincome.0_30000,\"+\n",
    "    \n",
    "    #first gen\n",
    "    \"latest.student.share_firstgeneration,latest.student.share_firstgeneration_parents.somecollege,\"+\n",
    "    \"latest.student.share_firstgeneration_parents.middleschool,latest.student.share_firstgeneration_parents.highschool,\"+\n",
    "    \n",
    "    #first gen tranfered to 4 year\n",
    "    \"latest.completion.title_iv.first_gen.transf_completed_4yr_by.2yrs,latest.completion.title_iv.first_gen.transf_completed_4yr_by.3yrs,\"+\n",
    "    \"latest.completion.title_iv.first_gen.transf_completed_4yr_by.4yrs,latest.completion.title_iv.first_gen.transf_completed_4yr_by.6yrs,\"+\n",
    "    \"latest.completion.title_iv.first_gen.transf_completed_4yr_by.8yrs,\"+\n",
    "    \n",
    "    #via census data demographics (population of students by zipcode)\n",
    "    \"latest.student.demographics.share_bachelors_degree_age25.home_ZIP,latest.student.demographics.share_born_US.home_ZIP,\"+\n",
    "    \"latest.student.demographics.share_white.home_ZIP,latest.student.demographics.share_hispanic.home_ZIP,\"+\n",
    "    \"latest.student.demographics.share_black.home_ZIP,latest.student.demographics.share_asian.home_ZIP,\"+\n",
    "    \"latest.student.demographics.share_professional_degree_age25.home_ZIP,\"+\n",
    "    \n",
    "    #independent\n",
    "    #general completion\n",
    "    \"latest.completion.title_iv.independ.completed_by.2yrs,latest.completion.title_iv.independ.completed_by.3yrs,\"+\n",
    "    \"latest.completion.title_iv.independ.completed_by.4yrs,latest.completion.title_iv.independ.completed_by.6yrs,\"+\n",
    "    \"latest.completion.title_iv.independ.completed_by.8yrs,\"+\n",
    "    #general withdrew\n",
    "    \"latest.completion.title_iv.independ.withdrawn_by.2yrs,latest.completion.title_iv.independ.withdrawn_by.3yrs,\"+\n",
    "    \"latest.completion.title_iv.independ.withdrawn_by.4yrs,latest.completion.title_iv.independ.withdrawn_by.6yrs,\"+\n",
    "    \"latest.completion.title_iv.independ.withdrawn_by.8yrs,\"+\n",
    "    \n",
    "    #dependent\n",
    "    #general completion\n",
    "    \"latest.completion.title_iv.depend.completed_by.2yrs,latest.completion.title_iv.depend.completed_by.3yrs,\"+\n",
    "    \"latest.completion.title_iv.depend.completed_by.4yrs,latest.completion.title_iv.depend.completed_by.6yrs,\"+\n",
    "    \"latest.completion.title_iv.depend.completed_by.8yrs,\"+\n",
    "    #general withdrew\n",
    "    \"latest.completion.title_iv.depend.withdrawn_by.2yrs,latest.completion.title_iv.depend.withdrawn_by.3yrs,\"+\n",
    "    \"latest.completion.title_iv.depend.withdrawn_by.4yrs,latest.completion.title_iv.depend.withdrawn_by.6yrs,\"+\n",
    "    \"latest.completion.title_iv.depend.withdrawn_by.8yrs,\"+\n",
    "    \n",
    "    #non-first gen\n",
    "    #general completion\n",
    "    \"latest.completion.title_iv.not_first_gen.completed_by.2yrs,latest.completion.title_iv.not_first_gen.completed_by.3yrs,\"+\n",
    "    \"latest.completion.title_iv.not_first_gen.completed_by.4yrs,latest.completion.title_iv.not_first_gen.completed_by.6yrs,\"+\n",
    "    \"latest.completion.title_iv.not_first_gen.completed_by.8yrs,\"+\n",
    "    #general withdrew\n",
    "    \"latest.completion.title_iv.not_first_gen.withdrawn_by.2yrs,latest.completion.title_iv.not_first_gen.withdrawn_by.3yrs,\"+\n",
    "    \"latest.completion.title_iv.not_first_gen.withdrawn_by.4yrs,latest.completion.title_iv.not_first_gen.withdrawn_by.6yrs,\"+\n",
    "    \"latest.completion.title_iv.not_first_gen.withdrawn_by.8yrs,\"+\n",
    "    \n",
    "    #first gen\n",
    "    #general completion\n",
    "    \"latest.completion.title_iv.first_gen.completed_by.2yrs,latest.completion.title_iv.first_gen.completed_by.3yrs,\"+\n",
    "    \"latest.completion.title_iv.first_gen.completed_by.4yrs,latest.completion.title_iv.first_gen.completed_by.6yrs,\"+\n",
    "    \"latest.completion.title_iv.first_gen.completed_by.8yrs,\"+\n",
    "    #general withdrew\n",
    "    \"latest.completion.title_iv.first_gen.withdrawn_by.2yrs,latest.completion.title_iv.first_gen.withdrawn_by.3yrs,\"+\n",
    "    \"latest.completion.title_iv.first_gen.withdrawn_by.4yrs,latest.completion.title_iv.first_gen.withdrawn_by.6yrs,\"+\n",
    "    \"latest.completion.title_iv.first_gen.withdrawn_by.8yrs,\"\n",
    "    \"page = 0\"\n",
    "}"
   ]
  },
  {
   "cell_type": "code",
   "execution_count": null,
   "id": "55198e05",
   "metadata": {},
   "outputs": [],
   "source": [
    "# Initialize an empty list to store the data\n",
    "dependency_data = []\n",
    "#starting page is 0\n",
    "params4['page'] = 0\n",
    "\n",
    "#loop that will loop through the page until we reach page 6\n",
    "while params4['page'] < 150:\n",
    "    #api call\n",
    "    response = requests.get(url, params=params4).json()\n",
    "    next_page_results = response.get(\"results\", [])\n",
    "    dependency_data.extend(next_page_results)\n",
    "    #to go to the next page of results\n",
    "    params4['page'] += 1\n",
    "    \n",
    "dependency_df = pd.DataFrame(dependency_data)\n",
    "dependency_df = dependency_df.fillna(0)"
   ]
  },
  {
   "cell_type": "code",
   "execution_count": null,
   "id": "be0de55d",
   "metadata": {},
   "outputs": [],
   "source": [
    "#renaming columns \n",
    "dependency_df = dependency_df.rename(columns={\n",
    "    'latest.school.name': 'School Name',\n",
    "    'latest.admissions.sat_scores.average.overall' : 'SAT Average Overall',\n",
    "    'latest.student.share_firstgeneration':'% First Generation Students',\n",
    "    'latest.student.share_firstgeneration_parents.somecollege':'% First Gen, Parents w/College',\n",
    "    'latest.student.share_firstgeneration_parents.middleschool':'% First Gen, Parents w/MiddleSchool',\n",
    "    'latest.student.share_firstgeneration_parents.highschool': '% First Gen, Parents w/HighSchool',\n",
    "    'latest.student.share_dependent_lowincome.0_300000': '% DepStudents, LowIncome $0-$30,000',\n",
    "    'latest.student.share_independent_lowincome.0_30000': '% IndepStudents, LowIncome $0-$30,000', \n",
    "    'latest.student.share_independent_students': '% Independent Students',\n",
    "    'latest.student.share_lowincome.0_30000':'% aided students family income $0-$30,000',\n",
    "    'latest.completion.title_iv.first_gen.transf_completed_4yr_by.2yrs': '% FirstGenStudents, Completed 2 Years',\n",
    "    'latest.completion.title_iv.first_gen.transf_completed_4yr_by.3yrs': '% FirstGenStudents, Completed 3 Years',\n",
    "    'latest.completion.title_iv.first_gen.transf_completed_4yr_by.4yrs':'% FirstGenStudents, Completed 4 Years',\n",
    "    'latest.completion.title_iv.first_gen.transf_completed_4yr_by.6yrs': '% FirstGenStudents, Completed 6 Years',\n",
    "    'latest.completion.title_iv.first_gen.transf_completed_4yr_by.8yrs': '% FirstGenStudents, Completed 8 Years',\n",
    "    'latest.student.demographics.share_bachelors_degree_age25.home_ZIP': '% Students W/Bachelors Degree at 25 Years Old',\n",
    "    'latest.student.demographics.share_born_US.home_ZIP': '% Students Born Within the U.S.',\n",
    "    'latest.student.demographics.share_white.home_ZIP': '% Population of White Students by ZIP Code',\n",
    "    'latest.student.demographics.share_hispanic.home_ZIP': '% Population of Hispanic Students by ZIP Code',\n",
    "    'latest.student.demographics.share_black.home_ZIP': '% Population of Black Students by ZIP Code',\n",
    "    'latest.student.demographics.share_asian.home_ZIP': '% Population of Asian Students by ZIP Code',\n",
    "    'latest.student.demographics.share_professional_degree_age25.home_ZIP': '% Students W/Professional Deg at 25YrsbyZIP',\n",
    "    'latest.completion.title_iv.independ.completed_by.2yrs': '% IndepStudents Completed 2 Years',\n",
    "    'latest.completion.title_iv.independ.completed_by.3yrs': '% IndepStudents Completed 3 Years',\n",
    "    'latest.completion.title_iv.independ.completed_by.4yrs':'% IndepStudents Completed 4 Years',\n",
    "    'latest.completion.title_iv.independ.completed_by.6yrs':'% IndepStudents Completed 6 Years',\n",
    "    'latest.completion.title_iv.independ.completed_by.8yrs':'% IndepStudents Completed 8 Years',\n",
    "    'latest.completion.title_iv.independ.withdrawn_by.2yrs':'% IndepStudents Withdrawn 2 Years',\n",
    "    'latest.completion.title_iv.independ.withdrawn_by.3yrs':'% IndepStudents Withdrawn 3 Years',\n",
    "    'latest.completion.title_iv.independ.withdrawn_by.4yrs':'% IndepStudents Withdrawn 4 Years',\n",
    "    'latest.completion.title_iv.independ.withdrawn_by.6yrs':'% IndepStudents Withdrawn 6 Years',\n",
    "    'latest.completion.title_iv.independ.withdrawn_by.8yrs':'% IndepStudents Withdrawn 8 Years',\n",
    "    'latest.completion.title_iv.depend.completed_by.2yrs':'% DepStudents Completed 2 Years',\n",
    "    'latest.completion.title_iv.depend.completed_by.3yrs':'% DepStudents Completed 3 Years',\n",
    "    'latest.completion.title_iv.depend.completed_by.4yrs':'% DepStudents Completed 4 Years',\n",
    "    'latest.completion.title_iv.depend.completed_by.6yrs':'% DepStudents Completed 6 Years',\n",
    "    'latest.completion.title_iv.depend.completed_by.8yrs':'% DepStudents Completed 8 Years',\n",
    "    'latest.completion.title_iv.depend.withdrawn_by.2yrs':'% DepStudents Withdrawn 2 Years',\n",
    "    'latest.completion.title_iv.depend.withdrawn_by.3yrs':'% DepStudents Withdrawn 3 Years',\n",
    "    'latest.completion.title_iv.depend.withdrawn_by.4yrs':'% DepStudents Withdrawn 4 Years',\n",
    "    'latest.completion.title_iv.depend.withdrawn_by.6yrs':'% DepStudents Withdrawn 6 Years',\n",
    "    'latest.completion.title_iv.depend.withdrawn_by.8yrs':'% DepStudents Withdrawn 8 Years',\n",
    "    'latest.completion.title_iv.not_first_gen.completed_by.2yrs':'% NonFirstGenStudents Completed 2 Years',\n",
    "    'latest.completion.title_iv.not_first_gen.completed_by.3yrs':'% NonFirstGenStudents Completed 3 Years',\n",
    "    'latest.completion.title_iv.not_first_gen.completed_by.4yrs':'% NonFirstGenStudents Completed 4 Years',\n",
    "    'latest.completion.title_iv.not_first_gen.completed_by.6yrs':'% NonFirstGenStudents Completed 6 Years',\n",
    "    'latest.completion.title_iv.not_first_gen.completed_by.8yrs':'% NonFirstGenStudents Completed 8 Years',\n",
    "    'latest.completion.title_iv.not_first_gen.withdrawn_by.2yrs':'% NonFirstGenStudents Withdrawn 2 Years',\n",
    "    'latest.completion.title_iv.not_first_gen.withdrawn_by.3yrs':'% NonFirstGenStudents Withdrawn 3 Years',\n",
    "    'latest.completion.title_iv.not_first_gen.withdrawn_by.4yrs':'% NonFirstGenStudents Withdrawn 4 Years',\n",
    "    'latest.completion.title_iv.not_first_gen.withdrawn_by.6yrs':'% NonFirstGenStudents Withdrawn 6 Years',\n",
    "    'latest.completion.title_iv.not_first_gen.withdrawn_by.8yrs':'% NonFirstGenStudents Withdrawn 8 Years',\n",
    "    'latest.completion.title_iv.first_gen.completed_by.2yrs': '% FirstGenStudents Completed 2 Years',\n",
    "    'latest.completion.title_iv.first_gen.completed_by.3yrs': '% FirstGenStudents Completed 3 Years',\n",
    "    'latest.completion.title_iv.first_gen.completed_by.4yrs': '% FirstGenStudents Completed 4 Years',\n",
    "    'latest.completion.title_iv.first_gen.completed_by.6yrs': '% FirstGenStudents Completed 6 Years',\n",
    "    'latest.completion.title_iv.first_gen.completed_by.8yrs': '% FirstGenStudents Completed 8 Years',\n",
    "    'latest.completion.title_iv.first_gen.withdrawn_by.2yrs': '% FirstGenStudents Withdrawn 2 Years',\n",
    "    'latest.completion.title_iv.first_gen.withdrawn_by.3yrs': '% FirstGenStudents Withdrawn 3 Years',\n",
    "    'latest.completion.title_iv.first_gen.withdrawn_by.4yrs': '% FirstGenStudents Withdrawn 4 Years',\n",
    "    'latest.completion.title_iv.first_gen.withdrawn_by.6yrs': '% FirstGenStudents Withdrawn 6 Years',\n",
    "    'latest.completion.title_iv.first_gen.withdrawn_by.8yrs': '% FirstGenStudents Withdrawn 8 Years', \n",
    "    'location.lat': 'Latitude',\n",
    "    'location.lon': 'Longitutde'\n",
    "})"
   ]
  },
  {
   "cell_type": "code",
   "execution_count": null,
   "id": "b0543ed3",
   "metadata": {},
   "outputs": [],
   "source": [
    "dependency_df"
   ]
  },
  {
   "cell_type": "code",
   "execution_count": null,
   "id": "dbee12a0",
   "metadata": {},
   "outputs": [],
   "source": [
    "for i in dependency_df.columns[2:]:\n",
    "    dependency_df[i] = dependency_df[i] * 100"
   ]
  },
  {
   "cell_type": "code",
   "execution_count": null,
   "id": "16dc9e53",
   "metadata": {},
   "outputs": [],
   "source": [
    "dependency_df.columns"
   ]
  },
  {
   "cell_type": "code",
   "execution_count": null,
   "id": "8b4e6386",
   "metadata": {},
   "outputs": [],
   "source": [
    "dependency_df= dependency_df.round(decimals=2)"
   ]
  },
  {
   "cell_type": "code",
   "execution_count": null,
   "id": "f6164767",
   "metadata": {},
   "outputs": [],
   "source": [
    "dependency_df = dependency_df[dependency_df['SAT Average Overall'] != 0]"
   ]
  },
  {
   "cell_type": "code",
   "execution_count": null,
   "id": "a925c1d7",
   "metadata": {},
   "outputs": [],
   "source": [
    "dependency_df = dependency_df.drop_duplicates(subset='School Name')"
   ]
  },
  {
   "cell_type": "code",
   "execution_count": null,
   "id": "5e527176",
   "metadata": {},
   "outputs": [],
   "source": [
    "dependency_df = dependency_df.set_index('School Name')"
   ]
  },
  {
   "cell_type": "code",
   "execution_count": null,
   "id": "8a1cd433",
   "metadata": {},
   "outputs": [],
   "source": [
    "dependency_df.to_json('Jsons/dependency_df.json' , orient = 'index', compression = 'infer' , index = 'true')"
   ]
  },
  {
   "cell_type": "code",
   "execution_count": null,
   "id": "11629beb",
   "metadata": {},
   "outputs": [],
   "source": [
    "dependency_df.to_csv('CSVs/dependency_df.csv')"
   ]
  },
  {
   "cell_type": "code",
   "execution_count": null,
   "id": "a8e6276f",
   "metadata": {},
   "outputs": [],
   "source": [
    "dependency_df"
   ]
  },
  {
   "cell_type": "code",
   "execution_count": null,
   "id": "8fba4d35",
   "metadata": {},
   "outputs": [],
   "source": []
  },
  {
   "cell_type": "code",
   "execution_count": null,
   "id": "4e4636a2",
   "metadata": {},
   "outputs": [],
   "source": []
  },
  {
   "cell_type": "code",
   "execution_count": null,
   "id": "9c978360",
   "metadata": {},
   "outputs": [],
   "source": []
  },
  {
   "cell_type": "code",
   "execution_count": null,
   "id": "4ac87b93",
   "metadata": {},
   "outputs": [],
   "source": []
  },
  {
   "cell_type": "code",
   "execution_count": null,
   "id": "2805bd46",
   "metadata": {},
   "outputs": [],
   "source": [
    "#DEMOGHRAPHICS\n",
    "\n",
    "url = 'https://api.data.gov/ed/collegescorecard/v1/schools.json'\n",
    "params1 = {\n",
    "    'api_key': doe_key,\n",
    "    'per_page': 250,\n",
    "    'fields': \"id,location.lon,location.lat,latest.school.name,\"+\n",
    "    'latest.admissions.sat_scores.average.overall,'+\n",
    "    \n",
    "    \"latest.root.location.lon,latest.root.location,latest.school.zip,latest.student.size,latest.root.id,latest.school.region_id,\"+\n",
    "    #\"latest.aid.pell_grant_rate,latest.school.faculty_salary,latest.school.ft_faculty_rate,\"+\n",
    "    \n",
    "    #admissions test requirements\n",
    "    \"latest.admissions.test_requirements,\"+\n",
    "    'latest.admissions.admission_rate.overall,'+\n",
    "    \n",
    "    #completion rate demographics\n",
    "    'latest.completion.completion_rate_4yr_150nt,'+\n",
    "    #\"latest.completion.completion_rate_4yr_150_nhpi,\"+ \n",
    "    #\"latest.completion.completion_rate_4yr_150_aian,latest.completion.completion_rate_4yr_150_asian,\"+\n",
    "    #\"latest.completion.completion_rate_4yr_150_hispanic,latest.completion.completion_rate_4yr_150_black,\"+\n",
    "    #\"latest.completion.completion_rate_4yr_150_white,\"+\n",
    "    \n",
    "    \n",
    "    #student demographics\n",
    "    \"latest.student.demographics.race_ethnicity.white,latest.student.demographics.race_ethnicity.hispanic,\"+\n",
    "    \"latest.student.demographics.race_ethnicity.black,latest.student.demographics.race_ethnicity.api,\"+\n",
    "    \"latest.student.demographics.race_ethnicity.asian,\"+\n",
    "    \"latest.student.demographics.race_ethnicity.aian,latest.student.demographics.women,latest.student.demographics.men,\"+\n",
    "    \n",
    "    #median debt per demographic\n",
    "    #\"latest.aid.median_debt.income.30001_75000,latest.aid.median_debt.income.0_30000,latest.aid.median_debt.income.greater_than_75000,\"+\n",
    "    #\"latest.aid.median_debt.noncompleters,latest.aid.median_debt.completers.overall,latest.aid.median_debt.male_students,\"+\n",
    "    #\"latest.aid.median_debt.independent_students,latest.aid.median_debt.female_students,latest.aid.median_debt.dependent_students,\"+\n",
    "    \n",
    "    #religious affiliation\n",
    "    \"latest.school.religious_affiliation,\"+\n",
    "    \n",
    "    #undergrads age 25 and above\n",
    "    \"latest.student.share_25_older\"+\n",
    "    \n",
    "    #page marker\n",
    "    'page=0'\n",
    "    \n",
    "    \n",
    "}\n"
   ]
  },
  {
   "cell_type": "code",
   "execution_count": null,
   "id": "51722771",
   "metadata": {},
   "outputs": [],
   "source": [
    "# Initialize an empty list to store the data\n",
    "demographics_data = []\n",
    "#starting page is 0\n",
    "params1['page'] = 0\n",
    "\n",
    "#loop that will loop through the page until we reach page 6\n",
    "while params1['page'] < 150:\n",
    "    #api call\n",
    "    response = requests.get(url, params=params1).json()\n",
    "    next_page_results = response.get(\"results\", [])\n",
    "    demographics_data.extend(next_page_results)\n",
    "    #to go to the next page of results\n",
    "    params1['page'] += 1"
   ]
  },
  {
   "cell_type": "code",
   "execution_count": null,
   "id": "82991f4c",
   "metadata": {},
   "outputs": [],
   "source": [
    "#create dataframe\n",
    "demographics_df = pd.DataFrame(demographics_data)\n",
    "#fill na columns to 0\n",
    "demographics_df = demographics_df.fillna(0)\n",
    "#drop unwanted columns\n",
    "demographics_df = demographics_df.drop(columns = ['latest.student.demographics.race_ethnicity.api_2000',\n",
    "                                                 'latest.school.region_id',\n",
    "                                                  'latest.school.religious_affiliation',\n",
    "                                                 'latest.school.zip'])"
   ]
  },
  {
   "cell_type": "code",
   "execution_count": null,
   "id": "1baaaeef",
   "metadata": {},
   "outputs": [],
   "source": [
    "#rename columns\n",
    "demographics_clean = demographics_df.rename(columns={\n",
    "    'id':'School_Id',\n",
    "    'latest.admissions.sat_scores.average.overall' : 'SAT Average Overall',\n",
    "    'location.lat':'School Latitude',\n",
    "    'location.lon':'School Longitude',\n",
    "    'latest.school.name':'School Name',\n",
    "    'latest.student.size':'Student Count',\n",
    "    'latest.admissions.test_requirements':'Requirement; 1:Yes, 2:Rec, 3:Na, 4:Dk, 5:Nan',\n",
    "    'latest.admissions.admission_rate.overall': 'Admission Rate',\n",
    "    'latest.completion.completion_rate_4yr_150nt':'4Yr Uni Completion Rates',\n",
    "    'latest.student.demographics.race_ethnicity.white': '% White Students',\n",
    "    'latest.student.demographics.race_ethnicity.hispanic':'% Hispanic Students',\n",
    "    'latest.student.demographics.race_ethnicity.black': '% Black Students',\n",
    "    'latest.student.demographics.race_ethnicity.asian': '% Asian Students',\n",
    "    'latest.student.demographics.race_ethnicity.aian': '% AIAN Students',\n",
    "    'latest.student.demographics.women':'% Female Students',\n",
    "    'latest.student.demographics.men':'% Male Students'})"
   ]
  },
  {
   "cell_type": "code",
   "execution_count": null,
   "id": "ecd7e260",
   "metadata": {},
   "outputs": [],
   "source": [
    "#for loop to multiply the list of columns by 100 for the percent\n",
    "columns_percent = ['Admission Rate','4Yr Uni Completion Rates','% White Students',\n",
    "                  '% Hispanic Students','% Black Students','% Asian Students','% AIAN Students',\n",
    "                  '% Female Students', '% Male Students']\n",
    "for columns in columns_percent:\n",
    "    demographics_clean[columns] = demographics_clean[columns]*100"
   ]
  },
  {
   "cell_type": "code",
   "execution_count": null,
   "id": "8dca0b3a",
   "metadata": {},
   "outputs": [],
   "source": [
    "#reorder columns\n",
    "demographics_clean = demographics_clean[['School_Id','SAT Average Overall','School Name','Student Count',\n",
    "'Requirement; 1:Yes, 2:Rec, 3:Na, 4:Dk, 5:Nan',\n",
    "'Admission Rate', '4Yr Uni Completion Rates', '% White Students',\n",
    "'% Hispanic Students', '% Black Students','% Asian Students', '% AIAN Students','% Female Students', '% Male Students',\n",
    "'School Latitude','School Longitude']]"
   ]
  },
  {
   "cell_type": "code",
   "execution_count": null,
   "id": "256bdb09",
   "metadata": {},
   "outputs": [],
   "source": [
    "demographics_clean= demographics_clean.round(decimals=2)"
   ]
  },
  {
   "cell_type": "code",
   "execution_count": null,
   "id": "d8f3512b",
   "metadata": {},
   "outputs": [],
   "source": [
    "demographics_clean = demographics_clean[demographics_clean['SAT Average Overall'] != 0]"
   ]
  },
  {
   "cell_type": "code",
   "execution_count": null,
   "id": "d11deeb2",
   "metadata": {},
   "outputs": [],
   "source": [
    "demographics_clean = demographics_clean.drop_duplicates(subset='School Name')"
   ]
  },
  {
   "cell_type": "code",
   "execution_count": null,
   "id": "78794f8b",
   "metadata": {},
   "outputs": [],
   "source": [
    "demographics_clean = demographics_clean.set_index('School Name')"
   ]
  },
  {
   "cell_type": "code",
   "execution_count": null,
   "id": "9c37ab20",
   "metadata": {},
   "outputs": [],
   "source": [
    "demographics_clean.to_json('Jsons/demographics_clean.json', orient = 'index', compression = 'infer', index = 'true')"
   ]
  },
  {
   "cell_type": "code",
   "execution_count": null,
   "id": "39889236",
   "metadata": {},
   "outputs": [],
   "source": [
    "demographics_clean.to_csv('CSVs/demographics_clean.csv')"
   ]
  },
  {
   "cell_type": "code",
   "execution_count": null,
   "id": "6b677b0c",
   "metadata": {},
   "outputs": [],
   "source": [
    "demographics_clean"
   ]
  },
  {
   "cell_type": "code",
   "execution_count": null,
   "id": "8870b41f",
   "metadata": {},
   "outputs": [],
   "source": []
  },
  {
   "cell_type": "code",
   "execution_count": null,
   "id": "c8c6b932",
   "metadata": {},
   "outputs": [],
   "source": []
  },
  {
   "cell_type": "code",
   "execution_count": null,
   "id": "bd060159",
   "metadata": {},
   "outputs": [],
   "source": []
  },
  {
   "cell_type": "code",
   "execution_count": null,
   "id": "67af00de",
   "metadata": {},
   "outputs": [],
   "source": []
  },
  {
   "cell_type": "code",
   "execution_count": null,
   "id": "60e314a1",
   "metadata": {},
   "outputs": [],
   "source": []
  },
  {
   "cell_type": "code",
   "execution_count": null,
   "id": "2d759bba",
   "metadata": {},
   "outputs": [],
   "source": [
    "#MALE/FEMALE\n",
    "\n",
    "url = 'https://api.data.gov/ed/collegescorecard/v1/schools.json'\n",
    "params3 = {\n",
    "    'api_key': doe_key,\n",
    "    'per_page': 250,\n",
    "    'fields': \"id,location.lon,location.lat,latest.school.name,\"+\n",
    "    'latest.admissions.sat_scores.average.overall,'+\n",
    "    \n",
    "    #male \n",
    "    #general completion\n",
    "    \"latest.completion.title_iv.male.completed_by.2yrs,latest.completion.title_iv.male.completed_by.3yrs,\"+\n",
    "    \"latest.completion.title_iv.male.completed_by.4yrs,latest.completion.title_iv.male.completed_by.6yrs,\"+\n",
    "    \"latest.completion.title_iv.male.completed_by.8yrs,\"+\n",
    "    #general withdrew\n",
    "    \"latest.completion.title_iv.male.withdrawn_by.2yrs,latest.completion.title_iv.male.withdrawn_by.3yrs,\"+\n",
    "    \"latest.completion.title_iv.male.withdrawn_by.4yrs,latest.completion.title_iv.male.withdrawn_by.6yrs,\"+\n",
    "    \"latest.completion.title_iv.male.withdrawn_by.8yrs,\"+\n",
    "    \n",
    "    \n",
    "    #female \n",
    "    #general completion\n",
    "    \"latest.completion.title_iv.female.completed_by.2yrs,latest.completion.title_iv.female.completed_by.3yrs,\"+\n",
    "    \"latest.completion.title_iv.female.completed_by.4yrs,latest.completion.title_iv.female.completed_by.6yrs,\"+\n",
    "    \"latest.completion.title_iv.female.completed_by.8yrs,\"+\n",
    "    #general withdrew\n",
    "    \"latest.completion.title_iv.female.withdrawn_by.2yrs,latest.completion.title_iv.female.withdrawn_by.3yrs,\"+\n",
    "    \"latest.completion.title_iv.female.withdrawn_by.4yrs,latest.completion.title_iv.female.withdrawn_by.6yrs,\"+\n",
    "    \"latest.completion.title_iv.female.withdrawn_by.8yrs,\"+\n",
    "    \n",
    "    #page marker\n",
    "    'page=0'\n",
    "    \n",
    "}"
   ]
  },
  {
   "cell_type": "code",
   "execution_count": null,
   "id": "aacce918",
   "metadata": {},
   "outputs": [],
   "source": [
    "# Initialize an empty list to store the data\n",
    "gender_completion = []\n",
    "#starting page is 0\n",
    "params3['page'] = 0\n",
    "\n",
    "#loop that will loop through the page until we reach page 6\n",
    "while params3['page'] < 150:\n",
    "    #api call\n",
    "    response = requests.get(url, params=params3).json()\n",
    "    next_page_results = response.get(\"results\", [])\n",
    "    gender_completion.extend(next_page_results)\n",
    "    #to go to the next page of results\n",
    "    params3['page'] += 1"
   ]
  },
  {
   "cell_type": "code",
   "execution_count": null,
   "id": "981313b9",
   "metadata": {},
   "outputs": [],
   "source": [
    "#create dataframe\n",
    "gender_completion_df = pd.DataFrame(gender_completion)\n",
    "#fill nan values to 0\n",
    "gender_completion_df = gender_completion_df.fillna(0)\n",
    "#rename columns\n",
    "gender_completion_clean = gender_completion_df.rename(columns = {\n",
    "        'id':'School_Id',\n",
    "        'location.lat':'School Latitude',\n",
    "        'latest.admissions.sat_scores.average.overall' : 'SAT Average Overall',\n",
    "\n",
    "        'location.lon':'School Longitude',\n",
    "        'latest.school.name': 'School Name',\n",
    "       'latest.completion.title_iv.male.completed_by.2yrs':'% Male Students Completed within 2yrs',\n",
    "       'latest.completion.title_iv.male.completed_by.3yrs':'% Male Students Completed within 3yrs',\n",
    "       'latest.completion.title_iv.male.completed_by.4yrs':'% Male Students Completed within 4yrs',\n",
    "       'latest.completion.title_iv.male.completed_by.6yrs':'% Male Students Completed within 6yrs',\n",
    "       'latest.completion.title_iv.male.completed_by.8yrs':'% Male Students Completed within 8yrs',\n",
    "       'latest.completion.title_iv.male.withdrawn_by.2yrs':'% Male Students Withdrawn by 2yrs',\n",
    "       'latest.completion.title_iv.male.withdrawn_by.3yrs':'% Male Students Withdrawn by 3yrs',\n",
    "       'latest.completion.title_iv.male.withdrawn_by.4yrs':'% Male Students Withdrawn by 4yrs',\n",
    "       'latest.completion.title_iv.male.withdrawn_by.6yrs':'% Male Students Withdrawn by 6yrs',\n",
    "       'latest.completion.title_iv.male.withdrawn_by.8yrs':'% Male Students Withdrawn by 8yrs',\n",
    "       'latest.completion.title_iv.female.completed_by.2yrs':'% Female Students Completed within 2yrs',\n",
    "       'latest.completion.title_iv.female.completed_by.3yrs':'% Female Students Completed within 3yrs',\n",
    "       'latest.completion.title_iv.female.completed_by.4yrs':'% Female Students Completed within 4yrs',\n",
    "       'latest.completion.title_iv.female.completed_by.6yrs':'% Female Students Completed within 6yrs',\n",
    "       'latest.completion.title_iv.female.completed_by.8yrs':'% Female Students Completed within 8yrs',\n",
    "       'latest.completion.title_iv.female.withdrawn_by.2yrs':'% Female Students Withdrawn by 2yrs',\n",
    "       'latest.completion.title_iv.female.withdrawn_by.3yrs':'% Female Students Withdrawn by 3yrs',\n",
    "       'latest.completion.title_iv.female.withdrawn_by.4yrs':'% Female Students Withdrawn by 4yrs',\n",
    "       'latest.completion.title_iv.female.withdrawn_by.6yrs':'% Female Students Withdrawn by 6yrs',\n",
    "       'latest.completion.title_iv.female.withdrawn_by.8yrs':'% Female Students Withdrawn by 8yrs'\n",
    "    \n",
    "})"
   ]
  },
  {
   "cell_type": "code",
   "execution_count": null,
   "id": "76c74e2f",
   "metadata": {},
   "outputs": [],
   "source": [
    "gender_completion_clean"
   ]
  },
  {
   "cell_type": "code",
   "execution_count": null,
   "id": "d4552c20",
   "metadata": {},
   "outputs": [],
   "source": [
    "#for loop to convert floats to percentage\n",
    "for i in gender_completion_clean.columns[2:]:\n",
    "    gender_completion_clean[i] = gender_completion_clean[i] * 100"
   ]
  },
  {
   "cell_type": "code",
   "execution_count": null,
   "id": "e8a36930",
   "metadata": {},
   "outputs": [],
   "source": [
    "gender_completion_clean= gender_completion_clean.round(decimals=2)"
   ]
  },
  {
   "cell_type": "code",
   "execution_count": null,
   "id": "b70a90f8",
   "metadata": {},
   "outputs": [],
   "source": [
    "gender_completion_clean = gender_completion_clean[gender_completion_clean['SAT Average Overall'] != 0]"
   ]
  },
  {
   "cell_type": "code",
   "execution_count": null,
   "id": "474873bb",
   "metadata": {},
   "outputs": [],
   "source": [
    "gender_completion_clean = gender_completion_clean.drop_duplicates(subset='School Name')"
   ]
  },
  {
   "cell_type": "code",
   "execution_count": null,
   "id": "bc576437",
   "metadata": {},
   "outputs": [],
   "source": [
    "gender_completion_clean = gender_completion_clean.set_index('School Name')"
   ]
  },
  {
   "cell_type": "code",
   "execution_count": null,
   "id": "f7307a28",
   "metadata": {},
   "outputs": [],
   "source": [
    "gender_completion_clean.to_json('Jsons/gender_completion_clean.json', orient = 'index', compression = 'infer', index = 'true')"
   ]
  },
  {
   "cell_type": "code",
   "execution_count": null,
   "id": "6f6963a1",
   "metadata": {},
   "outputs": [],
   "source": [
    "gender_completion_clean.to_csv('CSVs/gender_completion_clean.csv')"
   ]
  },
  {
   "cell_type": "code",
   "execution_count": null,
   "id": "2db04a3c",
   "metadata": {},
   "outputs": [],
   "source": [
    "gender_completion_clean"
   ]
  },
  {
   "cell_type": "code",
   "execution_count": null,
   "id": "910e27f2",
   "metadata": {},
   "outputs": [],
   "source": []
  },
  {
   "cell_type": "code",
   "execution_count": null,
   "id": "fd4ab771",
   "metadata": {},
   "outputs": [],
   "source": []
  },
  {
   "cell_type": "code",
   "execution_count": null,
   "id": "ae0d46b1",
   "metadata": {},
   "outputs": [],
   "source": []
  },
  {
   "cell_type": "code",
   "execution_count": null,
   "id": "fd6163a5",
   "metadata": {},
   "outputs": [],
   "source": []
  },
  {
   "cell_type": "code",
   "execution_count": null,
   "id": "44a245ed",
   "metadata": {},
   "outputs": [],
   "source": []
  },
  {
   "cell_type": "code",
   "execution_count": 5,
   "id": "de6ed7de",
   "metadata": {},
   "outputs": [],
   "source": [
    "#ACADEMICS\n",
    "\n",
    "url = 'https://api.data.gov/ed/collegescorecard/v1/schools.json'\n",
    "params = {\n",
    "    'api_key': doe_key,\n",
    "    'per_page': 150,\n",
    "    'fields': 'id,'+\n",
    "    'location.lon,'+\n",
    "    'location.lat,'+\n",
    "    'latest.school.name,'+\n",
    "    'latest.admissions.sat_scores.average.overall,'+\n",
    "    'latest.aid.federal_loan_rate,'+\n",
    "    'latest.cost.title_iv.private.all,'+\n",
    "    'latest.academics.program_reporter.programs_offered,'+\n",
    "    'latest.school.tuition_revenue_per_fte,'+\n",
    "    'latest.student.enrollment.all,'+\n",
    "    'latest.school.degrees_awarded.highest,'+\n",
    "    'latest.admissions.sat_scores.midpoint.writing,'+\n",
    "    'latest.admissions.sat_scores.midpoint.math,'+\n",
    "    'latest.admissions.sat_scores.midpoint.critical_reading,'+\n",
    "    'latest.admissions.sat_scores.average.overall,'+\n",
    "    'latest.admissions.act_scores.midpoint.writing,'+\n",
    "    'latest.admissions.act_scores.midpoint.math,'+\n",
    "    'latest.admissions.act_scores.midpoint.english,'+\n",
    "    'latest.admissions.act_scores.midpoint.cumulative,'+\n",
    "    'latest.student.retention_rate.four_year.full_time,'+\n",
    "    #'latest.student.retention_rate.four_year.full_time_pooled,'+\n",
    "    #'latest.school.ownership'+\n",
    "    #'latest.completion.completion_rate_less_than_4yr_150nt,'+\n",
    "    'latest.completion.completion_rate_4yr_150_white,'+\n",
    "    'latest.completion.completion_rate_4yr_150_2ormore,'+\n",
    "    'latest.completion.completion_rate_4yr_150_nhpi,'+\n",
    "    'latest.completion.completion_rate_4yr_150_hispanic,'+\n",
    "    'latest.completion.completion_rate_4yr_150_black,'+\n",
    "    'latest.completion.completion_rate_4yr_150_asian,'+\n",
    "    'latest.completion.completion_rate_4yr_150_aian,'+\n",
    "    'latest.completion.completion_rate_4yr_150nt_pooled,'+\n",
    "    \n",
    "    'page=0'\n",
    "}"
   ]
  },
  {
   "cell_type": "code",
   "execution_count": 6,
   "id": "c79cfd2c",
   "metadata": {},
   "outputs": [],
   "source": [
    "# Initialize an empty list to store the data\n",
    "academics_data = []\n",
    "#starting page is 0\n",
    "params['page'] = 0\n",
    "\n",
    "#loop that will loop through the page until we reach page 6\n",
    "while params['page'] < 150:\n",
    "    #api call\n",
    "    response = requests.get(url, params=params).json()\n",
    "    next_page_results = response.get(\"results\", [])\n",
    "    academics_data.extend(next_page_results)\n",
    "    #to go to the next page of results\n",
    "    params['page'] += 1\n",
    "\n",
    "\n",
    "academics_df = pd.DataFrame(academics_data)\n",
    "academics_df = academics_df.fillna(0)"
   ]
  },
  {
   "cell_type": "code",
   "execution_count": 7,
   "id": "3629934d",
   "metadata": {},
   "outputs": [
    {
     "data": {
      "text/html": [
       "<div>\n",
       "<style scoped>\n",
       "    .dataframe tbody tr th:only-of-type {\n",
       "        vertical-align: middle;\n",
       "    }\n",
       "\n",
       "    .dataframe tbody tr th {\n",
       "        vertical-align: top;\n",
       "    }\n",
       "\n",
       "    .dataframe thead th {\n",
       "        text-align: right;\n",
       "    }\n",
       "</style>\n",
       "<table border=\"1\" class=\"dataframe\">\n",
       "  <thead>\n",
       "    <tr style=\"text-align: right;\">\n",
       "      <th></th>\n",
       "    </tr>\n",
       "  </thead>\n",
       "  <tbody>\n",
       "  </tbody>\n",
       "</table>\n",
       "</div>"
      ],
      "text/plain": [
       "Empty DataFrame\n",
       "Columns: []\n",
       "Index: []"
      ]
     },
     "execution_count": 7,
     "metadata": {},
     "output_type": "execute_result"
    }
   ],
   "source": [
    "academics_df"
   ]
  },
  {
   "cell_type": "code",
   "execution_count": null,
   "id": "15d8db25",
   "metadata": {},
   "outputs": [],
   "source": [
    "Data_clean = academics_df.rename(columns={\n",
    "'latest.school.name' : 'School Name',\n",
    "'latest.admissions.sat_scores.average.overall' : 'SAT Average Overall',\n",
    "'latest.cost.title_iv.private.all' : 'Title 4 Cost Private',\n",
    "'latest.academics.program_reporter.programs_offered' : 'No.of programs offered',\n",
    "'latest.school.tuition_revenue_per_fte' : 'Tuition FT Enrollment in $',\n",
    "'latest.student.enrollment.all': 'Enrollment',\n",
    "'latest.school.degrees_awarded.highest' : 'Highest degree awarded',\n",
    "'latest.admissions.sat_scores.midpoint.writing' : 'SAT Writing Midpoint',\n",
    "'latest.admissions.sat_scores.midpoint.math' : 'SAT Math Midpoint',\n",
    "'latest.admissions.sat_scores.midpoint.critical_reading' : 'SAT Critical Reading Midpoint',\n",
    "'latest.admissions.sat_scores.average.overall' : 'SAT Average Overall',\n",
    "'latest.admissions.act_scores.midpoint.writing' : 'ACT Writing Midpoint',\n",
    "'latest.admissions.act_scores.midpoint.math' : ' ACT Math Midpoint',\n",
    "'latest.admissions.act_scores.midpoint.english' : 'ACT English Midpoint',\n",
    "'latest.student.retention_rate.four_year.full_time' : 'Retention Rate FT',\n",
    "'latest.completion.completion_rate_4yr_150_white' : 'Completion Rate 4 year (White)',\n",
    "'latest.completion.completion_rate_4yr_150_2ormore' : 'Completion Rate 4 year (2 Or More Races)',\n",
    "'latest.completion.completion_rate_4yr_150_nhpi':'Completion Rate 4 year (Hawaian/Pacific Islander)',\n",
    "'latest.completion.completion_rate_4yr_150_hispanic':'Completion Rate 4 year (Hispanic)',\n",
    "'latest.completion.completion_rate_4yr_150_black' : 'Completion Rate 4 year (Black)',\n",
    "'latest.completion.completion_rate_4yr_150_asian' : 'Completion Rate 4 year (Asian)',\n",
    "'latest.completion.completion_rate_4yr_150_aian' : 'Completion Rate 4 year (American Indian)',\n",
    "'latest.completion.completion_rate_4yr_150nt_pooled': 'General Completion Rate',\n",
    "'latest.aid.federal_loan_rate' : '% of Students receiving Federal Loan',\n",
    "'latest.admissions.act_scores.midpoint.cumulative' : 'ACT Cumulative Midpoint',\n",
    "'location.lon' : 'Longitutde',\n",
    "'location.lat': 'Latitude'\n",
    "})"
   ]
  },
  {
   "cell_type": "code",
   "execution_count": null,
   "id": "7aa8620c",
   "metadata": {},
   "outputs": [],
   "source": [
    "Data_clean['Completion Rate 4 year (White)'] = Data_clean['Completion Rate 4 year (White)'] * 100\n",
    "Data_clean['Completion Rate 4 year (2 Or More Races)'] = Data_clean['Completion Rate 4 year (2 Or More Races)'] * 100\n",
    "Data_clean['Completion Rate 4 year (Hawaian/Pacific Islander)'] = Data_clean['Completion Rate 4 year (Hawaian/Pacific Islander)'] * 100\n",
    "Data_clean['Completion Rate 4 year (Hispanic)'] = Data_clean['Completion Rate 4 year (Hispanic)'] * 100\n",
    "Data_clean['Completion Rate 4 year (Asian)'] = Data_clean['Completion Rate 4 year (Asian)'] * 100\n",
    "Data_clean['Completion Rate 4 year (American Indian)'] = Data_clean['Completion Rate 4 year (American Indian)'] * 100\n",
    "Data_clean['Completion Rate 4 year (Black)'] = Data_clean['Completion Rate 4 year (Black)'] * 100\n",
    "Data_clean['% of Students receiving Federal Loan'] = Data_clean['% of Students receiving Federal Loan'] * 100\n",
    "Data_clean['Retention Rate FT'] = Data_clean['Retention Rate FT'] * 100\n",
    "Data_clean['General Completion Rate'] = Data_clean['General Completion Rate'] * 100\n",
    "\n",
    "\n"
   ]
  },
  {
   "cell_type": "code",
   "execution_count": null,
   "id": "dd63e11e",
   "metadata": {},
   "outputs": [],
   "source": [
    "Data_clean= Data_clean.round(decimals=2)"
   ]
  },
  {
   "cell_type": "code",
   "execution_count": null,
   "id": "41ac8bf5",
   "metadata": {},
   "outputs": [],
   "source": [
    "Data_clean = Data_clean[Data_clean['SAT Average Overall'] != 0]"
   ]
  },
  {
   "cell_type": "code",
   "execution_count": null,
   "id": "e28557b6",
   "metadata": {},
   "outputs": [],
   "source": [
    "Data_clean = Data_clean.drop_duplicates(subset='School Name')"
   ]
  },
  {
   "cell_type": "code",
   "execution_count": null,
   "id": "c64b83e7",
   "metadata": {},
   "outputs": [],
   "source": [
    "Data_clean = Data_clean.set_index('School Name')"
   ]
  },
  {
   "cell_type": "code",
   "execution_count": null,
   "id": "629b4eee",
   "metadata": {},
   "outputs": [],
   "source": [
    "Data_clean.to_json('Jsons/academics_clean.json' , orient = 'index', compression = 'infer' , index = 'true')"
   ]
  },
  {
   "cell_type": "code",
   "execution_count": null,
   "id": "abd9c08b",
   "metadata": {},
   "outputs": [],
   "source": [
    "Data_clean.to_csv('CSVs/academics_clean.csv')"
   ]
  },
  {
   "cell_type": "code",
   "execution_count": null,
   "id": "ddd9a039",
   "metadata": {},
   "outputs": [],
   "source": [
    "Data_clean"
   ]
  },
  {
   "cell_type": "code",
   "execution_count": null,
   "id": "23591bf8",
   "metadata": {},
   "outputs": [],
   "source": []
  },
  {
   "cell_type": "code",
   "execution_count": null,
   "id": "1c25c671",
   "metadata": {},
   "outputs": [],
   "source": []
  },
  {
   "cell_type": "code",
   "execution_count": null,
   "id": "5e6aa61b",
   "metadata": {},
   "outputs": [],
   "source": []
  },
  {
   "cell_type": "code",
   "execution_count": null,
   "id": "261ea4f1",
   "metadata": {},
   "outputs": [],
   "source": []
  },
  {
   "cell_type": "code",
   "execution_count": null,
   "id": "3ba9d6c0",
   "metadata": {},
   "outputs": [],
   "source": []
  },
  {
   "cell_type": "code",
   "execution_count": 2,
   "id": "7a317edb",
   "metadata": {},
   "outputs": [],
   "source": [
    "#FAFSA\n",
    "\n",
    "url = 'https://api.data.gov/ed/collegescorecard/v1/schools.json'\n",
    "params = {\n",
    "    'api_key': doe_key,\n",
    "    'per_page': 250,\n",
    "    'fields': \"latest.root.id,latest.root.location.lon,latest.root.location.lat,latest.school.name,\"+\n",
    "    \"latest.admissions.sat_scores.average.overall,\"+\n",
    "    \n",
    "    #school city / classifications\n",
    "    \"latest.school.city,latest.school.carnegie_undergrad,latest.school.carnegie_size_setting,\"+\n",
    "    \"latest.school.carnegie_basic\"\n",
    "    \n",
    "    #costs\n",
    "    \"latest.cost.attendance.academic_year,latest.cost.attendance.program_year\"+\n",
    "    \n",
    "    #fafsa\n",
    "    \"latest.student.fafsa_sent.overall,\"+\n",
    "    \n",
    "    #completion time by program\n",
    "    \"latest.academics.program_reporter.program_1.cip_6_digit.avg_month_completion,\"+\n",
    "    \"latest.academics.program_reporter.program_2.cip_6_digit.avg_month_completion,\"+\n",
    "    \"latest.academics.program_reporter.program_3.cip_6_digit.avg_month_completion,\"+\n",
    "    \"latest.academics.program_reporter.program_4.cip_6_digit.avg_month_completion,\"+\n",
    "    \"latest.academics.program_reporter.program_5.cip_6_digit.avg_month_completion,\"+\n",
    "    \"latest.academics.program_reporter.program_6.cip_6_digit.avg_month_completion,\"+\n",
    "    \n",
    "    #average net price\n",
    "    \"latest.cost.avg_net_price.public,latest.cost.avg_net_price.private,latest.cost.avg_net_price.other_academic_year,\"+\n",
    "    \"latest.cost.avg_net_price.program_year,latest.cost.net_price.public.by_income_level.75001-110000,\"+\n",
    "    \"latest.cost.net_price.program_reporter.by_income_level.75001-110000,latest.cost.net_price.private.by_income_level.75001-110000,\"+\n",
    "    \"latest.cost.net_price.other_acad_calendar.by_income_level.75001-110000,latest.cost.net_price.public.by_income_level.75000-plus,\"+\n",
    "    \"latest.cost.net_price.program_reporter.by_income_level.75000-plus,latest.cost.net_price.private.by_income_level.75000-plus,\"+\n",
    "    \"latest.cost.net_price.other_acad_calendar.by_income_level.75000-plus,latest.cost.net_price.public.by_income_level.48001-75000,\"+\n",
    "    \"latest.cost.net_price.program_reporter.by_income_level.48001-75000,latest.cost.net_price.private.by_income_level.48001-75000,\"+\n",
    "    \"latest.cost.net_price.other_acad_calendar.by_income_level.48001-75000,latest.cost.net_price.public.by_income_level.30001-75000,\"+\n",
    "    \"latest.cost.net_price.program_reporter.by_income_level.30001-75000,latest.cost.net_price.private.by_income_level.30001-75000,\"+\n",
    "    \"latest.cost.net_price.other_acad_calendar.by_income_level.30001-75000,latest.cost.net_price.public.by_income_level.30001-48000,\"+\n",
    "    \"latest.cost.net_price.program_reporter.by_income_level.30001-48000,latest.cost.net_price.private.by_income_level.30001-48000,\"+\n",
    "    \"latest.cost.net_price.other_acad_calendar.by_income_level.30001-48000,latest.cost.net_price.public.by_income_level.110001-plus,\"+\n",
    "    \"latest.cost.net_price.program_reporter.by_income_level.110001-plus,latest.cost.net_price.private.by_income_level.110001-plus,\"+\n",
    "    \"latest.cost.net_price.other_acad_calendar.by_income_level.110001-plus,latest.cost.net_price.public.by_income_level.0-48000,\"+\n",
    "    \"latest.cost.net_price.program_reporter.by_income_level.0-48000,latest.cost.net_price.private.by_income_level.0-48000,\"+\n",
    "    \"latest.cost.net_price.other_acad_calendar.by_income_level.0-48000,latest.cost.net_price.public.by_income_level.0-30000,\"+\n",
    "    \"latest.cost.net_price.program_reporter.by_income_level.0-30000,latest.cost.net_price.private.by_income_level.0-30000,\"+\n",
    "    \"latest.cost.net_price.other_acad_calendar.by_income_level.0-30000,\"+\n",
    "    \n",
    "    #admission rate\n",
    "    \"latest.admissions.admission_rate.overall\"\n",
    "    \n",
    "    'page=0'\n",
    "}\n",
    "\n",
    "   \n",
    "\n",
    "response = requests.get(url, params=params)\n",
    "response = response.json()\n",
    "#pprint(response)   "
   ]
  },
  {
   "cell_type": "code",
   "execution_count": 3,
   "id": "b314a4bf",
   "metadata": {},
   "outputs": [],
   "source": [
    "# Initialize an empty list to store the data\n",
    "fafsa_data = []\n",
    "#starting page is 0\n",
    "params['page'] = 0\n",
    "\n",
    "#loop that will loop through the page until we reach page 6\n",
    "while params['page'] < 150:\n",
    "    #api call\n",
    "    response = requests.get(url, params=params).json()\n",
    "    next_page_results = response.get(\"results\", [])\n",
    "    fafsa_data.extend(next_page_results)\n",
    "    #to go to the next page of results\n",
    "    params['page'] += 1\n"
   ]
  },
  {
   "cell_type": "code",
   "execution_count": 4,
   "id": "d52d1372",
   "metadata": {},
   "outputs": [
    {
     "data": {
      "text/html": [
       "<div>\n",
       "<style scoped>\n",
       "    .dataframe tbody tr th:only-of-type {\n",
       "        vertical-align: middle;\n",
       "    }\n",
       "\n",
       "    .dataframe tbody tr th {\n",
       "        vertical-align: top;\n",
       "    }\n",
       "\n",
       "    .dataframe thead th {\n",
       "        text-align: right;\n",
       "    }\n",
       "</style>\n",
       "<table border=\"1\" class=\"dataframe\">\n",
       "  <thead>\n",
       "    <tr style=\"text-align: right;\">\n",
       "      <th></th>\n",
       "    </tr>\n",
       "  </thead>\n",
       "  <tbody>\n",
       "  </tbody>\n",
       "</table>\n",
       "</div>"
      ],
      "text/plain": [
       "Empty DataFrame\n",
       "Columns: []\n",
       "Index: []"
      ]
     },
     "execution_count": 4,
     "metadata": {},
     "output_type": "execute_result"
    }
   ],
   "source": [
    "fafsa_df = pd.DataFrame(fafsa_data)\n",
    "fafsa_df"
   ]
  },
  {
   "cell_type": "code",
   "execution_count": null,
   "id": "da4bd8b4",
   "metadata": {},
   "outputs": [],
   "source": [
    "dropped_fafsa = fafsa_df.drop(columns=['latest.academics.program_reporter.program_1.cip_6_digit.avg_month_completion', \n",
    "                             'latest.academics.program_reporter.program_2.cip_6_digit.avg_month_completion', \n",
    "                             'latest.academics.program_reporter.program_2.cip_6_digit.avg_month_completion', \n",
    "                             'latest.academics.program_reporter.program_3.cip_6_digit.avg_month_completion', \n",
    "                             'latest.cost.avg_net_price.other_academic_year',\n",
    "                             'latest.cost.avg_net_price.program_year',\n",
    "                             'latest.cost.net_price.program_reporter.by_income_level.75001-110000',\n",
    "                             'latest.cost.net_price.private.by_income_level.110001-plus',\n",
    "                             'latest.cost.net_price.program_reporter.by_income_level.0-48000',\n",
    "                             'latest.cost.net_price.other_acad_calendar.by_income_level.0-48000',\n",
    "                             'latest.cost.net_price.program_reporter.by_income_level.0-30000',\n",
    "                             'latest.cost.net_price.other_acad_calendar.by_income_level.0-30000',\n",
    "                             'latest.academics.program_reporter.program_4.cip_6_digit.avg_month_completion', \n",
    "                             'latest.academics.program_reporter.program_5.cip_6_digit.avg_month_completion', \n",
    "                             'latest.academics.program_reporter.program_6.cip_6_digit.avg_month_completion',\n",
    "                             \"latest.cost.net_price.private.by_income_level.75001-110000\",\n",
    "                             'latest.cost.net_price.other_acad_calendar.by_income_level.75001-110000',\n",
    "                             'latest.cost.net_price.program_reporter.by_income_level.30001-48000',\n",
    "                             'latest.cost.net_price.other_acad_calendar.by_income_level.30001-48000',\n",
    "                             'latest.cost.net_price.program_reporter.by_income_level.75000-plus',\n",
    "                             'latest.cost.net_price.private.by_income_level.75000-plus',\n",
    "                             'latest.cost.net_price.program_reporter.by_income_level.110001-plus',\n",
    "                             'latest.cost.net_price.other_acad_calendar.by_income_level.75000-plus',\n",
    "                             'latest.cost.net_price.program_reporter.by_income_level.48001-75000',\n",
    "                             'latest.cost.net_price.other_acad_calendar.by_income_level.30001-75000',\n",
    "                             'latest.cost.net_price.program_reporter.by_income_level.30001-75000',\n",
    "                             'latest.cost.net_price.other_acad_calendar.by_income_level.48001-75000'\n",
    "                                       \n",
    "                             \n",
    "                                      ])\n",
    "dropped_fafsa\n"
   ]
  },
  {
   "cell_type": "code",
   "execution_count": null,
   "id": "c62dd6a1",
   "metadata": {},
   "outputs": [],
   "source": [
    "clean_fafsa = dropped_fafsa.rename(columns={'latest.school.name': 'School Name',\n",
    "                                            'latest.school.city': \"City\", \n",
    "                                            'latest.admissions.sat_scores.average.overall' : 'SAT Average Overall',\n",
    "                                            'latest.school.carnegie_undergrad': 'Carnegie Classification Undergraduate Profile',\n",
    "                                            'latest.school.carnegie_size_setting': 'Carnegie Size Setting',\n",
    "                                            'latest.cost.avg_net_price.public': 'Public Average Net Price',\n",
    "                                            'latest.cost.avg_net_price.private': 'Private Average Net Price',\n",
    "                                            'latest.cost.net_price.public.by_income_level.75001-110000': 'Avg $75,001-$110,000 (Public)',\n",
    "                                            'latest.cost.net_price.other_acad_calendar.by_income_level.110001-plus': 'Avg $110,000+ (All)',\n",
    "                                            'latest.cost.net_price.public.by_income_level.0-48000': 'Avg $0-$48,000 (Public)',\n",
    "                                            'latest.cost.net_price.public.by_income_level.75000-plus': 'Avg $75,000+ (Public)',\n",
    "                                            'latest.cost.net_price.public.by_income_level.48001-75000': 'Avg $48,001-$75,000 (Public)',\n",
    "                                            'latest.cost.net_price.private.by_income_level.48001-75000': 'Avg $48,001-$75,000 (All)',\n",
    "                                            'latest.cost.net_price.public.by_income_level.30001-75000': 'Avg $30,001-$75,000 (Public)',\n",
    "                                            'latest.cost.net_price.private.by_income_level.30001-75000': 'Avg $30,001-$75,000 (All)',\n",
    "                                            'latest.cost.net_price.public.by_income_level.30001-48000': 'Avg $30,001-$48,000 (Public)',\n",
    "                                            'latest.cost.net_price.private.by_income_level.30001-48000': 'Avg $30,001-$48,000 (All)',\n",
    "                                            'latest.cost.net_price.public.by_income_level.110001-plus': 'Avg $110,000+ (Public)',\n",
    "                                            'latest.cost.net_price.private.by_income_level.0-48000' : 'Avg $0-$48,000 (Private)',\n",
    "                                            'latest.cost.net_price.public.by_income_level.0-30000' : 'Avg $0-$30,000 (Public)',\n",
    "                                            'latest.cost.net_price.private.by_income_level.0-30000' : 'Avg $0-$30,000 (Private)'\n",
    "                                            \n",
    "                                           })\n",
    "\n",
    "\n",
    "clean_fafsa.fillna(0)\n"
   ]
  },
  {
   "cell_type": "code",
   "execution_count": null,
   "id": "6584c67c",
   "metadata": {},
   "outputs": [],
   "source": [
    "clean_fafsa = clean_fafsa.fillna(0)\n"
   ]
  },
  {
   "cell_type": "code",
   "execution_count": null,
   "id": "4db3321c",
   "metadata": {},
   "outputs": [],
   "source": [
    "clean_fafsa= clean_fafsa.round(decimals=2)"
   ]
  },
  {
   "cell_type": "code",
   "execution_count": null,
   "id": "2a125c0c",
   "metadata": {},
   "outputs": [],
   "source": [
    "clean_fafsa = clean_fafsa[clean_fafsa['SAT Average Overall'] != 0]"
   ]
  },
  {
   "cell_type": "code",
   "execution_count": null,
   "id": "421bc337",
   "metadata": {},
   "outputs": [],
   "source": [
    "clean_fafsa = clean_fafsa.drop_duplicates(subset='School Name')"
   ]
  },
  {
   "cell_type": "code",
   "execution_count": null,
   "id": "9953500a",
   "metadata": {},
   "outputs": [],
   "source": [
    "clean_fafsa = clean_fafsa.set_index('School Name')"
   ]
  },
  {
   "cell_type": "code",
   "execution_count": null,
   "id": "62a5c697",
   "metadata": {},
   "outputs": [],
   "source": [
    "clean_fafsa.to_csv('CSVs/clean_fafsa.csv')"
   ]
  },
  {
   "cell_type": "code",
   "execution_count": null,
   "id": "6af8ba3b",
   "metadata": {},
   "outputs": [],
   "source": [
    "clean_fafsa.to_json('Jsons/clean_fafsa.json' , orient = 'index', compression = 'infer' , index = 'true')"
   ]
  },
  {
   "cell_type": "code",
   "execution_count": null,
   "id": "d601c5c0",
   "metadata": {},
   "outputs": [],
   "source": [
    "clean_fafsa"
   ]
  },
  {
   "cell_type": "code",
   "execution_count": null,
   "id": "64e7ab93",
   "metadata": {},
   "outputs": [],
   "source": []
  },
  {
   "cell_type": "code",
   "execution_count": null,
   "id": "b901af9b",
   "metadata": {},
   "outputs": [],
   "source": []
  },
  {
   "cell_type": "code",
   "execution_count": null,
   "id": "936611d4",
   "metadata": {},
   "outputs": [],
   "source": []
  },
  {
   "cell_type": "code",
   "execution_count": null,
   "id": "1cc4fb7d",
   "metadata": {},
   "outputs": [],
   "source": []
  },
  {
   "cell_type": "code",
   "execution_count": null,
   "id": "70557a0a",
   "metadata": {},
   "outputs": [],
   "source": []
  },
  {
   "cell_type": "code",
   "execution_count": null,
   "id": "177d7fad",
   "metadata": {},
   "outputs": [],
   "source": [
    "#ALL DATAFRAMES ARE AS FOLLOWS:\n",
    "#clean_fafsa CHECKED\n",
    "#Data_clean (Academics) CHECKED\n",
    "#gender_completion_clean CHECKED\n",
    "#demographics_clean CHECKED\n",
    "#dependency_df CHECKED\n",
    "#income_clean CHECKED"
   ]
  },
  {
   "cell_type": "code",
   "execution_count": null,
   "id": "20bb7b51",
   "metadata": {},
   "outputs": [],
   "source": []
  },
  {
   "cell_type": "code",
   "execution_count": null,
   "id": "59492a40",
   "metadata": {},
   "outputs": [],
   "source": []
  },
  {
   "cell_type": "code",
   "execution_count": null,
   "id": "a26e5561",
   "metadata": {},
   "outputs": [],
   "source": []
  },
  {
   "cell_type": "code",
   "execution_count": null,
   "id": "80def40e",
   "metadata": {},
   "outputs": [],
   "source": []
  }
 ],
 "metadata": {
  "kernelspec": {
   "display_name": "Python 3 (ipykernel)",
   "language": "python",
   "name": "python3"
  },
  "language_info": {
   "codemirror_mode": {
    "name": "ipython",
    "version": 3
   },
   "file_extension": ".py",
   "mimetype": "text/x-python",
   "name": "python",
   "nbconvert_exporter": "python",
   "pygments_lexer": "ipython3",
   "version": "3.7.7"
  }
 },
 "nbformat": 4,
 "nbformat_minor": 5
}
